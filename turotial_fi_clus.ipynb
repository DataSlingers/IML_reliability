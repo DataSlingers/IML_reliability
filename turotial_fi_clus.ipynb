{
 "cells": [
  {
   "cell_type": "markdown",
   "id": "1f3bbe3b",
   "metadata": {},
   "source": [
    "### Import packages"
   ]
  },
  {
   "cell_type": "code",
   "execution_count": 1,
   "id": "66faeb56",
   "metadata": {
    "scrolled": true
   },
   "outputs": [
    {
     "name": "stderr",
     "output_type": "stream",
     "text": [
      "/Users/melinda/opt/anaconda3/lib/python3.9/site-packages/scipy/__init__.py:146: UserWarning: A NumPy version >=1.16.5 and <1.23.0 is required for this version of SciPy (detected version 1.24.2\n",
      "  warnings.warn(f\"A NumPy version >={np_minversion} and <{np_maxversion}\"\n"
     ]
    }
   ],
   "source": [
    "import imlreliability\n",
    "import pandas as pd\n",
    "import numpy as np#### Load Packages dir(imlreliability)"
   ]
  },
  {
   "cell_type": "markdown",
   "id": "dfc9c219",
   "metadata": {},
   "source": [
    "### Clustering "
   ]
  },
  {
   "cell_type": "markdown",
   "id": "607e7ef7",
   "metadata": {},
   "source": [
    "#### Load data"
   ]
  },
  {
   "cell_type": "code",
   "execution_count": 2,
   "id": "42086510",
   "metadata": {},
   "outputs": [],
   "source": [
    "from sklearn.model_selection import train_test_split\n",
    "data = pd.read_csv('https://archive.ics.uci.edu/ml/machine-learning-databases/breast-cancer-wisconsin/wdbc.data', header=None)\n",
    "data=data.dropna()\n",
    "y=(data[1])\n",
    "x = data.drop(columns=[0,1]).to_numpy()\n",
    "K=len(set(y))"
   ]
  },
  {
   "cell_type": "markdown",
   "id": "086680b0",
   "metadata": {},
   "source": [
    "### Noise Addition\n"
   ]
  },
  {
   "cell_type": "code",
   "execution_count": 3,
   "id": "0e76b698",
   "metadata": {},
   "outputs": [
    {
     "name": "stdout",
     "output_type": "stream",
     "text": [
      "Iter:  0\n",
      "<built-in method normal of numpy.random.mtrand.RandomState object at 0x10614e840>\n",
      "Iter:  1\n",
      "<built-in method normal of numpy.random.mtrand.RandomState object at 0x10614e840>\n",
      "noise\n",
      "   data   method perturbation   noise  sigma               criteria  Accuracy  \\\n",
      "0  WDBC  K-means        noise  normal      1                    ARI    0.6300   \n",
      "1  WDBC  K-means        noise  normal      1  Fowlkes Mallows Score    0.8235   \n",
      "2  WDBC  K-means        noise  normal      1     Mutual Information    0.5175   \n",
      "3  WDBC  K-means        noise  normal      1        V Measure Score    0.5180   \n",
      "\n",
      "   Consistency  \n",
      "0        0.720  \n",
      "1        0.864  \n",
      "2        0.609  \n",
      "3        0.609  \n"
     ]
    }
   ],
   "source": [
    "from sklearn.cluster import KMeans\n",
    "esti_km = KMeans(n_clusters=K,init='k-means++')\n",
    "# from sklearn.cluster import AgglomerativeClustering\n",
    "\n",
    "\n",
    "model_km = imlreliability.clustering.clustering(data=x,estimator=esti_km,K=len(set(y)),\n",
    "                 label=y,\n",
    "                 perturbation = 'noise',\n",
    "                 sigma=1,\n",
    "                 noise_type='normal',\n",
    "                 n_repeat=2,\n",
    "                 norm=True,\n",
    "                 stratify=True,\n",
    "                 rand_index=1,\n",
    "                 verbose=True)\n",
    "\n",
    "model_km.fit()\n",
    "model_km.consistency('WDBC',method_name='K-means')\n",
    "print(model_km.results)\n",
    "####################### \n",
    "# model_km.results.to_csv('clus_new_km.csv')"
   ]
  },
  {
   "cell_type": "markdown",
   "id": "babb9430",
   "metadata": {},
   "source": [
    "#### without labels "
   ]
  },
  {
   "cell_type": "code",
   "execution_count": 4,
   "id": "5de2784d",
   "metadata": {},
   "outputs": [
    {
     "name": "stdout",
     "output_type": "stream",
     "text": [
      "Iter:  0\n",
      "<built-in method normal of numpy.random.mtrand.RandomState object at 0x10614e840>\n",
      "Iter:  1\n",
      "<built-in method normal of numpy.random.mtrand.RandomState object at 0x10614e840>\n",
      "noise\n",
      "   data   method perturbation   noise  sigma               criteria  \\\n",
      "0  WDBC  K-means        noise  normal      1                    ARI   \n",
      "1  WDBC  K-means        noise  normal      1  Fowlkes Mallows Score   \n",
      "2  WDBC  K-means        noise  normal      1     Mutual Information   \n",
      "3  WDBC  K-means        noise  normal      1        V Measure Score   \n",
      "\n",
      "   Consistency  Accuracy  \n",
      "0        0.720       NaN  \n",
      "1        0.864       NaN  \n",
      "2        0.609       NaN  \n",
      "3        0.609       NaN  \n"
     ]
    }
   ],
   "source": [
    "model_km2 = imlreliability.clustering.clustering(data=x,estimator=esti_km,K=len(set(y)),\n",
    "                 label=None,\n",
    "                 perturbation = 'noise',\n",
    "                 sigma=1,\n",
    "                 noise_type='normal',\n",
    "                 n_repeat=2,\n",
    "                 norm=True,\n",
    "                 stratify=True,\n",
    "                 rand_index=1,\n",
    "                 verbose=True)\n",
    "\n",
    "model_km2.fit()\n",
    "model_km2.consistency('WDBC',method_name='K-means')\n",
    "print(model_km2.results)\n",
    "####################### "
   ]
  },
  {
   "cell_type": "markdown",
   "id": "3b2b94a6",
   "metadata": {},
   "source": [
    "### Data spliting"
   ]
  },
  {
   "cell_type": "code",
   "execution_count": 5,
   "id": "7588e7b1",
   "metadata": {},
   "outputs": [
    {
     "name": "stdout",
     "output_type": "stream",
     "text": [
      "Iter:  0\n",
      "Iter:  1\n",
      "Iter:  2\n",
      "split\n",
      "split\n",
      "split\n",
      "   data   method perturbation noise sigma               criteria  Accuracy  \\\n",
      "0  WDBC  K-means        split    NA    NA                    ARI  0.714667   \n",
      "1  WDBC  K-means        split    NA    NA  Fowlkes Mallows Score  0.865333   \n",
      "2  WDBC  K-means        split    NA    NA     Mutual Information  0.597333   \n",
      "3  WDBC  K-means        split    NA    NA        V Measure Score  0.598333   \n",
      "\n",
      "   Consistency  \n",
      "0     0.971000  \n",
      "1     0.986333  \n",
      "2     0.944333  \n",
      "3     0.944333  \n"
     ]
    }
   ],
   "source": [
    "from sklearn.cluster import KMeans\n",
    "esti_km = KMeans(n_clusters=K,init='k-means++')\n",
    "\n",
    "model_km3 = imlreliability.clustering.clustering(data=x,estimator=esti_km,K=len(set(y)),\n",
    "                 label=y,\n",
    "                 perturbation = 'split',\n",
    "                 sigma='NA',\n",
    "                 noise_type='NA',\n",
    "                 n_repeat=3,\n",
    "                 norm=True,\n",
    "                 stratify=True,\n",
    "                 rand_index=1,\n",
    "                 verbose=True)\n",
    "\n",
    "model_km3.fit()\n",
    "model_km3.consistency('WDBC',method_name='K-means')\n",
    "print(model_km3.results)\n",
    "####################### "
   ]
  }
 ],
 "metadata": {
  "kernelspec": {
   "display_name": "Python 3 (ipykernel)",
   "language": "python",
   "name": "python3"
  },
  "language_info": {
   "codemirror_mode": {
    "name": "ipython",
    "version": 3
   },
   "file_extension": ".py",
   "mimetype": "text/x-python",
   "name": "python",
   "nbconvert_exporter": "python",
   "pygments_lexer": "ipython3",
   "version": "3.9.12"
  }
 },
 "nbformat": 4,
 "nbformat_minor": 5
}
