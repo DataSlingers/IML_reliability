{
 "cells": [
  {
   "cell_type": "markdown",
   "id": "cb0e097f",
   "metadata": {},
   "source": [
    "### Import packages"
   ]
  },
  {
   "cell_type": "code",
   "execution_count": 1,
   "id": "66faeb56",
   "metadata": {
    "scrolled": true
   },
   "outputs": [
    {
     "name": "stderr",
     "output_type": "stream",
     "text": [
      "/Users/melinda/opt/anaconda3/lib/python3.9/site-packages/scipy/__init__.py:146: UserWarning: A NumPy version >=1.16.5 and <1.23.0 is required for this version of SciPy (detected version 1.24.2\n",
      "  warnings.warn(f\"A NumPy version >={np_minversion} and <{np_maxversion}\"\n"
     ]
    }
   ],
   "source": [
    "import imlreliability\n",
    "import pandas as pd\n",
    "import numpy as np#### Load Packages dir(imlreliability)"
   ]
  },
  {
   "cell_type": "code",
   "execution_count": 6,
   "id": "a39f3aea",
   "metadata": {},
   "outputs": [],
   "source": [
    "indices_test=[1,2,3]\n",
    "this_yhat=[1,2,3]\n",
    "this_pred=[1,2,3,3,5]\n",
    "for a,item in enumerate(indices_test):\n",
    "    this_pred[item] = this_yhat[a]    "
   ]
  },
  {
   "cell_type": "code",
   "execution_count": 3,
   "id": "8b367092",
   "metadata": {},
   "outputs": [
    {
     "data": {
      "text/plain": [
       "['__all__',\n",
       " '__builtins__',\n",
       " '__cached__',\n",
       " '__doc__',\n",
       " '__file__',\n",
       " '__loader__',\n",
       " '__name__',\n",
       " '__package__',\n",
       " '__path__',\n",
       " '__spec__',\n",
       " '_feature_impo',\n",
       " 'feature_impoClass',\n",
       " 'feature_impoClass_MLP',\n",
       " 'feature_impoReg',\n",
       " 'feature_impoReg_MLP',\n",
       " 'rbo',\n",
       " 'util_feature_impo']"
      ]
     },
     "execution_count": 3,
     "metadata": {},
     "output_type": "execute_result"
    }
   ],
   "source": [
    "dir(imlreliability.feature_importance)\n"
   ]
  },
  {
   "cell_type": "markdown",
   "id": "0d2ef9d9",
   "metadata": {},
   "source": [
    "### Feature Importance"
   ]
  },
  {
   "cell_type": "markdown",
   "id": "de89cfa6",
   "metadata": {},
   "source": [
    "#### Load data"
   ]
  },
  {
   "cell_type": "code",
   "execution_count": 2,
   "id": "7061ecd1",
   "metadata": {},
   "outputs": [],
   "source": [
    "from sklearn.preprocessing import scale, normalize\n",
    "csv_url = 'https://archive.ics.uci.edu/ml/machine-learning-databases/iris/iris.data'\n",
    "col_names = ['Sepal_Length','Sepal_Width','Petal_Length','Petal_Width','Class']\n",
    "data =  pd.read_csv(csv_url, names = col_names)\n",
    "y =(data['Class'])\n",
    "x = data[['Sepal_Length','Sepal_Width','Petal_Length','Petal_Width']]\n",
    "\n",
    "### scale and normalize data \n",
    "x = normalize(scale(x))\n"
   ]
  },
  {
   "cell_type": "markdown",
   "id": "9a80e425",
   "metadata": {},
   "source": [
    "### Model specific IML method\n"
   ]
  },
  {
   "cell_type": "code",
   "execution_count": null,
   "id": "6e1f7d06",
   "metadata": {},
   "outputs": [],
   "source": []
  },
  {
   "cell_type": "markdown",
   "id": "05ad93a2",
   "metadata": {},
   "source": [
    "#### Linear model"
   ]
  },
  {
   "cell_type": "code",
   "execution_count": 6,
   "id": "37df8667",
   "metadata": {},
   "outputs": [
    {
     "name": "stdout",
     "output_type": "stream",
     "text": [
      "0\n",
      "Iter:  0\n",
      "use coefs as feature importance \n",
      "1\n",
      "Iter:  1\n",
      "use coefs as feature importance \n",
      "2\n",
      "Iter:  2\n",
      "use coefs as feature importance \n",
      "3\n",
      "Iter:  3\n",
      "use coefs as feature importance \n",
      "4\n",
      "Iter:  4\n",
      "use coefs as feature importance \n",
      "5\n",
      "Iter:  5\n",
      "use coefs as feature importance \n",
      "6\n",
      "Iter:  6\n",
      "use coefs as feature importance \n",
      "7\n",
      "Iter:  7\n",
      "use coefs as feature importance \n",
      "8\n",
      "Iter:  8\n",
      "use coefs as feature importance \n",
      "9\n",
      "Iter:  9\n",
      "use coefs as feature importance \n",
      "Importance Function is  Coef_LogisticRidge\n",
      "      data          model  Accuracy\n",
      "0  new_reg  LogisticRidge  0.822222\n",
      "1  new_reg  LogisticRidge  0.777778\n",
      "2  new_reg  LogisticRidge  0.933333\n",
      "3  new_reg  LogisticRidge  0.844444\n",
      "4  new_reg  LogisticRidge  0.888889\n",
      "5  new_reg  LogisticRidge  0.866667\n",
      "6  new_reg  LogisticRidge  0.866667\n",
      "7  new_reg  LogisticRidge  0.911111\n",
      "8  new_reg  LogisticRidge  0.777778\n",
      "9  new_reg  LogisticRidge  0.755556\n",
      "       data              method criteria   K  Consistency  Accuracy\n",
      "0   new_reg  Coef_LogisticRidge      RBO   1        0.778     0.844\n",
      "1   new_reg  Coef_LogisticRidge      RBO   2        0.889     0.844\n",
      "2   new_reg  Coef_LogisticRidge      RBO   3        0.926     0.844\n",
      "3   new_reg  Coef_LogisticRidge      RBO   4        0.944     0.844\n",
      "4   new_reg  Coef_LogisticRidge      RBO   5        0.944     0.844\n",
      "5   new_reg  Coef_LogisticRidge      RBO   6        0.944     0.844\n",
      "6   new_reg  Coef_LogisticRidge      RBO   7        0.944     0.844\n",
      "7   new_reg  Coef_LogisticRidge      RBO   8        0.944     0.844\n",
      "8   new_reg  Coef_LogisticRidge      RBO   9        0.944     0.844\n",
      "9   new_reg  Coef_LogisticRidge      RBO  10        0.944     0.844\n",
      "10  new_reg  Coef_LogisticRidge      RBO  11        0.944     0.844\n",
      "11  new_reg  Coef_LogisticRidge      RBO  12        0.944     0.844\n",
      "12  new_reg  Coef_LogisticRidge      RBO  13        0.944     0.844\n",
      "13  new_reg  Coef_LogisticRidge      RBO  14        0.944     0.844\n",
      "14  new_reg  Coef_LogisticRidge      RBO  15        0.944     0.844\n",
      "15  new_reg  Coef_LogisticRidge      RBO  16        0.944     0.844\n",
      "16  new_reg  Coef_LogisticRidge      RBO  17        0.944     0.844\n",
      "17  new_reg  Coef_LogisticRidge      RBO  18        0.944     0.844\n",
      "18  new_reg  Coef_LogisticRidge      RBO  19        0.944     0.844\n",
      "19  new_reg  Coef_LogisticRidge      RBO  20        0.944     0.844\n",
      "20  new_reg  Coef_LogisticRidge      RBO  21        0.944     0.844\n",
      "21  new_reg  Coef_LogisticRidge      RBO  22        0.944     0.844\n",
      "22  new_reg  Coef_LogisticRidge      RBO  23        0.944     0.844\n",
      "23  new_reg  Coef_LogisticRidge      RBO  24        0.944     0.844\n",
      "24  new_reg  Coef_LogisticRidge      RBO  25        0.944     0.844\n",
      "25  new_reg  Coef_LogisticRidge      RBO  26        0.944     0.844\n",
      "26  new_reg  Coef_LogisticRidge      RBO  27        0.944     0.844\n",
      "27  new_reg  Coef_LogisticRidge      RBO  28        0.944     0.844\n",
      "28  new_reg  Coef_LogisticRidge      RBO  29        0.944     0.844\n",
      "29  new_reg  Coef_LogisticRidge      RBO  30        0.944     0.844\n",
      "30  new_reg  Coef_LogisticRidge  Jaccard   1        0.778     0.844\n",
      "31  new_reg  Coef_LogisticRidge  Jaccard   2        1.000     0.844\n",
      "32  new_reg  Coef_LogisticRidge  Jaccard   3        1.000     0.844\n",
      "33  new_reg  Coef_LogisticRidge  Jaccard   4        1.000     0.844\n",
      "34  new_reg  Coef_LogisticRidge  Jaccard   5        1.000     0.844\n",
      "35  new_reg  Coef_LogisticRidge  Jaccard   6        1.000     0.844\n",
      "36  new_reg  Coef_LogisticRidge  Jaccard   7        1.000     0.844\n",
      "37  new_reg  Coef_LogisticRidge  Jaccard   8        1.000     0.844\n",
      "38  new_reg  Coef_LogisticRidge  Jaccard   9        1.000     0.844\n",
      "39  new_reg  Coef_LogisticRidge  Jaccard  10        1.000     0.844\n",
      "40  new_reg  Coef_LogisticRidge  Jaccard  11        1.000     0.844\n",
      "41  new_reg  Coef_LogisticRidge  Jaccard  12        1.000     0.844\n",
      "42  new_reg  Coef_LogisticRidge  Jaccard  13        1.000     0.844\n",
      "43  new_reg  Coef_LogisticRidge  Jaccard  14        1.000     0.844\n",
      "44  new_reg  Coef_LogisticRidge  Jaccard  15        1.000     0.844\n",
      "45  new_reg  Coef_LogisticRidge  Jaccard  16        1.000     0.844\n",
      "46  new_reg  Coef_LogisticRidge  Jaccard  17        1.000     0.844\n",
      "47  new_reg  Coef_LogisticRidge  Jaccard  18        1.000     0.844\n",
      "48  new_reg  Coef_LogisticRidge  Jaccard  19        1.000     0.844\n",
      "49  new_reg  Coef_LogisticRidge  Jaccard  20        1.000     0.844\n",
      "50  new_reg  Coef_LogisticRidge  Jaccard  21        1.000     0.844\n",
      "51  new_reg  Coef_LogisticRidge  Jaccard  22        1.000     0.844\n",
      "52  new_reg  Coef_LogisticRidge  Jaccard  23        1.000     0.844\n",
      "53  new_reg  Coef_LogisticRidge  Jaccard  24        1.000     0.844\n",
      "54  new_reg  Coef_LogisticRidge  Jaccard  25        1.000     0.844\n",
      "55  new_reg  Coef_LogisticRidge  Jaccard  26        1.000     0.844\n",
      "56  new_reg  Coef_LogisticRidge  Jaccard  27        1.000     0.844\n",
      "57  new_reg  Coef_LogisticRidge  Jaccard  28        1.000     0.844\n",
      "58  new_reg  Coef_LogisticRidge  Jaccard  29        1.000     0.844\n",
      "59  new_reg  Coef_LogisticRidge  Jaccard  30        1.000     0.844\n",
      "     Entropy     data          model  Purity\n",
      "0       -0.0  new_reg  LogisticRidge     1.0\n",
      "1       -0.0  new_reg  LogisticRidge     1.0\n",
      "2        0.0  new_reg  LogisticRidge     1.0\n",
      "3       -0.0  new_reg  LogisticRidge     1.0\n",
      "4       -0.0  new_reg  LogisticRidge     1.0\n",
      "..       ...      ...            ...     ...\n",
      "145     -0.0  new_reg  LogisticRidge     1.0\n",
      "146     -0.0  new_reg  LogisticRidge     1.0\n",
      "147     -0.0  new_reg  LogisticRidge     1.0\n",
      "148     -0.0  new_reg  LogisticRidge     1.0\n",
      "149     -0.0  new_reg  LogisticRidge     1.0\n",
      "\n",
      "[150 rows x 4 columns]\n"
     ]
    }
   ],
   "source": [
    "from sklearn.linear_model import LogisticRegressionCV\n",
    "estimator=LogisticRegressionCV()\n",
    "importance_func=None\n",
    "\n",
    "data_class=(x,y)\n",
    "model_class = imlreliability.feature_importance.feature_impoClass(data_class,estimator,sigma=1,\n",
    "                 importance_func=importance_func,\n",
    "        \n",
    "                 n_repeat=10,split_proportion=0.7,\n",
    "                rand_index=1)\n",
    "model_class.fit()\n",
    "model_class.consistency(data_name='new_reg', estimator_name='LogisticRidge',impotance_func_name='Coef')\n",
    "print(model_class.accuracy)\n",
    "print(model_class.consistency)\n",
    "print(model_class.prediction_consistency)\n",
    "\n",
    "## model_class.consistency.to_csv('consis_test_fi_class.csv')\n"
   ]
  },
  {
   "cell_type": "code",
   "execution_count": 19,
   "id": "201f3645",
   "metadata": {},
   "outputs": [
    {
     "ename": "TypeError",
     "evalue": "list indices must be integers or slices, not list",
     "output_type": "error",
     "traceback": [
      "\u001b[0;31m---------------------------------------------------------------------------\u001b[0m",
      "\u001b[0;31mTypeError\u001b[0m                                 Traceback (most recent call last)",
      "Input \u001b[0;32mIn [19]\u001b[0m, in \u001b[0;36m<cell line: 4>\u001b[0;34m()\u001b[0m\n\u001b[1;32m      2\u001b[0m this_pred \u001b[38;5;241m=\u001b[39m \u001b[38;5;28mlist\u001b[39m(np\u001b[38;5;241m.\u001b[39mrepeat(\u001b[38;5;124m'\u001b[39m\u001b[38;5;124mNA\u001b[39m\u001b[38;5;124m'\u001b[39m,\u001b[38;5;241m10\u001b[39m))\n\u001b[1;32m      3\u001b[0m indices_test\u001b[38;5;241m=\u001b[39m[\u001b[38;5;241m1\u001b[39m,\u001b[38;5;241m2\u001b[39m,\u001b[38;5;241m8\u001b[39m,\u001b[38;5;241m7\u001b[39m]\n\u001b[0;32m----> 4\u001b[0m this_pred[indices_test]\u001b[38;5;241m=\u001b[39mthis_yhat\n\u001b[1;32m      5\u001b[0m this_pred\n",
      "\u001b[0;31mTypeError\u001b[0m: list indices must be integers or slices, not list"
     ]
    }
   ],
   "source": [
    "this_yhat = ['Iris-setosa','Iris-setosa','Iris-virginica','Iris-virginica']\n",
    "this_pred = list(np.repeat('NA',10))\n",
    "indices_test=[1,2,8,7]\n",
    "for i,item in enumerate(indices_test):\n",
    "    this_pred[item] = this_yhat[i]\n",
    "    "
   ]
  },
  {
   "cell_type": "code",
   "execution_count": 20,
   "id": "8b6c8dbc",
   "metadata": {},
   "outputs": [],
   "source": []
  },
  {
   "cell_type": "code",
   "execution_count": 21,
   "id": "3c52c9f5",
   "metadata": {},
   "outputs": [
    {
     "data": {
      "text/plain": [
       "['NA',\n",
       " 'Iris-setosa',\n",
       " 'Iris-setosa',\n",
       " 'NA',\n",
       " 'NA',\n",
       " 'NA',\n",
       " 'NA',\n",
       " 'Iris-virginica',\n",
       " 'Iris-virginica',\n",
       " 'NA']"
      ]
     },
     "execution_count": 21,
     "metadata": {},
     "output_type": "execute_result"
    }
   ],
   "source": [
    "this_pred"
   ]
  },
  {
   "cell_type": "code",
   "execution_count": null,
   "id": "1b6c03cb",
   "metadata": {},
   "outputs": [],
   "source": [
    "import collections"
   ]
  },
  {
   "cell_type": "code",
   "execution_count": null,
   "id": "1b954ce4",
   "metadata": {},
   "outputs": [],
   "source": [
    "from sklearn.linear_model import RidgeCV\n"
   ]
  }
 ],
 "metadata": {
  "kernelspec": {
   "display_name": "Python 3 (ipykernel)",
   "language": "python",
   "name": "python3"
  },
  "language_info": {
   "codemirror_mode": {
    "name": "ipython",
    "version": 3
   },
   "file_extension": ".py",
   "mimetype": "text/x-python",
   "name": "python",
   "nbconvert_exporter": "python",
   "pygments_lexer": "ipython3",
   "version": "3.9.12"
  }
 },
 "nbformat": 4,
 "nbformat_minor": 5
}
