{
 "cells": [
  {
   "cell_type": "markdown",
   "id": "6763d58e",
   "metadata": {},
   "source": [
    "### Import packages"
   ]
  },
  {
   "cell_type": "code",
   "execution_count": 1,
   "id": "66faeb56",
   "metadata": {
    "scrolled": true
   },
   "outputs": [
    {
     "name": "stderr",
     "output_type": "stream",
     "text": [
      "/Users/melinda/opt/anaconda3/lib/python3.9/site-packages/scipy/__init__.py:146: UserWarning: A NumPy version >=1.16.5 and <1.23.0 is required for this version of SciPy (detected version 1.24.2\n",
      "  warnings.warn(f\"A NumPy version >={np_minversion} and <{np_maxversion}\"\n"
     ]
    }
   ],
   "source": [
    "import imlreliability\n",
    "import pandas as pd\n",
    "import numpy as np#### Load Packages dir(imlreliability)"
   ]
  },
  {
   "cell_type": "code",
   "execution_count": 2,
   "id": "a39f3aea",
   "metadata": {},
   "outputs": [
    {
     "data": {
      "text/plain": [
       "['__all__',\n",
       " '__builtins__',\n",
       " '__cached__',\n",
       " '__doc__',\n",
       " '__file__',\n",
       " '__loader__',\n",
       " '__name__',\n",
       " '__package__',\n",
       " '__path__',\n",
       " '__spec__',\n",
       " '__version__',\n",
       " '_version',\n",
       " 'clustering',\n",
       " 'dimension_reduction',\n",
       " 'feature_importance']"
      ]
     },
     "execution_count": 2,
     "metadata": {},
     "output_type": "execute_result"
    }
   ],
   "source": [
    "dir(imlreliability)"
   ]
  },
  {
   "cell_type": "code",
   "execution_count": 3,
   "id": "8b367092",
   "metadata": {},
   "outputs": [
    {
     "data": {
      "text/plain": [
       "['__all__',\n",
       " '__builtins__',\n",
       " '__cached__',\n",
       " '__doc__',\n",
       " '__file__',\n",
       " '__loader__',\n",
       " '__name__',\n",
       " '__package__',\n",
       " '__path__',\n",
       " '__spec__',\n",
       " '_feature_impo',\n",
       " 'feature_impoClass',\n",
       " 'feature_impoClass_MLP',\n",
       " 'feature_impoReg',\n",
       " 'feature_impoReg_MLP',\n",
       " 'rbo',\n",
       " 'util_feature_impo']"
      ]
     },
     "execution_count": 3,
     "metadata": {},
     "output_type": "execute_result"
    }
   ],
   "source": [
    "dir(imlreliability.feature_importance)\n"
   ]
  },
  {
   "cell_type": "markdown",
   "id": "0b541c8b",
   "metadata": {},
   "source": [
    "### Feature Importance"
   ]
  },
  {
   "cell_type": "markdown",
   "id": "3840651c",
   "metadata": {},
   "source": [
    "#### Load data"
   ]
  },
  {
   "cell_type": "code",
   "execution_count": 4,
   "id": "45c2f27f",
   "metadata": {},
   "outputs": [],
   "source": [
    "from sklearn.preprocessing import scale, normalize\n",
    "csv_url = 'https://archive.ics.uci.edu/ml/machine-learning-databases/iris/iris.data'\n",
    "col_names = ['Sepal_Length','Sepal_Width','Petal_Length','Petal_Width','Class']\n",
    "data =  pd.read_csv(csv_url, names = col_names)\n",
    "y =(data['Class'])\n",
    "x = data[['Sepal_Length','Sepal_Width','Petal_Length','Petal_Width']]\n",
    "\n",
    "### scale and normalize data \n",
    "x = normalize(scale(x))\n"
   ]
  },
  {
   "cell_type": "markdown",
   "id": "385bb7f3",
   "metadata": {},
   "source": [
    "### Model specific IML method\n"
   ]
  },
  {
   "cell_type": "code",
   "execution_count": null,
   "id": "9fb62a01",
   "metadata": {},
   "outputs": [],
   "source": [
    "from "
   ]
  },
  {
   "cell_type": "markdown",
   "id": "f53e5333",
   "metadata": {},
   "source": [
    "#### Linear model"
   ]
  },
  {
   "cell_type": "code",
   "execution_count": 5,
   "id": "e6448ab5",
   "metadata": {},
   "outputs": [
    {
     "name": "stdout",
     "output_type": "stream",
     "text": [
      "3\n",
      "0\n",
      "Iter:  0\n",
      "use coefs as feature importance \n",
      "1\n",
      "Iter:  1\n",
      "use coefs as feature importance \n",
      "2\n",
      "Iter:  2\n",
      "use coefs as feature importance \n",
      "Importance Function is  Coef_ridge\n",
      "      data   type  Accuracy\n",
      "0  new_reg  ridge  0.822222\n",
      "1  new_reg  ridge  0.888889\n",
      "2  new_reg  ridge  0.777778\n",
      "       data      method criteria   K  Consistency  Accuracy\n",
      "0   new_reg  Coef_ridge      RBO   1          1.0      0.83\n",
      "1   new_reg  Coef_ridge      RBO   2          1.0      0.83\n",
      "2   new_reg  Coef_ridge      RBO   3          1.0      0.83\n",
      "3   new_reg  Coef_ridge      RBO   4          1.0      0.83\n",
      "4   new_reg  Coef_ridge      RBO   5          1.0      0.83\n",
      "5   new_reg  Coef_ridge      RBO   6          1.0      0.83\n",
      "6   new_reg  Coef_ridge      RBO   7          1.0      0.83\n",
      "7   new_reg  Coef_ridge      RBO   8          1.0      0.83\n",
      "8   new_reg  Coef_ridge      RBO   9          1.0      0.83\n",
      "9   new_reg  Coef_ridge      RBO  10          1.0      0.83\n",
      "10  new_reg  Coef_ridge      RBO  11          1.0      0.83\n",
      "11  new_reg  Coef_ridge      RBO  12          1.0      0.83\n",
      "12  new_reg  Coef_ridge      RBO  13          1.0      0.83\n",
      "13  new_reg  Coef_ridge      RBO  14          1.0      0.83\n",
      "14  new_reg  Coef_ridge      RBO  15          1.0      0.83\n",
      "15  new_reg  Coef_ridge      RBO  16          1.0      0.83\n",
      "16  new_reg  Coef_ridge      RBO  17          1.0      0.83\n",
      "17  new_reg  Coef_ridge      RBO  18          1.0      0.83\n",
      "18  new_reg  Coef_ridge      RBO  19          1.0      0.83\n",
      "19  new_reg  Coef_ridge      RBO  20          1.0      0.83\n",
      "20  new_reg  Coef_ridge      RBO  21          1.0      0.83\n",
      "21  new_reg  Coef_ridge      RBO  22          1.0      0.83\n",
      "22  new_reg  Coef_ridge      RBO  23          1.0      0.83\n",
      "23  new_reg  Coef_ridge      RBO  24          1.0      0.83\n",
      "24  new_reg  Coef_ridge      RBO  25          1.0      0.83\n",
      "25  new_reg  Coef_ridge      RBO  26          1.0      0.83\n",
      "26  new_reg  Coef_ridge      RBO  27          1.0      0.83\n",
      "27  new_reg  Coef_ridge      RBO  28          1.0      0.83\n",
      "28  new_reg  Coef_ridge      RBO  29          1.0      0.83\n",
      "29  new_reg  Coef_ridge      RBO  30          1.0      0.83\n",
      "30  new_reg  Coef_ridge  Jaccard   1          1.0      0.83\n",
      "31  new_reg  Coef_ridge  Jaccard   2          1.0      0.83\n",
      "32  new_reg  Coef_ridge  Jaccard   3          1.0      0.83\n",
      "33  new_reg  Coef_ridge  Jaccard   4          1.0      0.83\n",
      "34  new_reg  Coef_ridge  Jaccard   5          1.0      0.83\n",
      "35  new_reg  Coef_ridge  Jaccard   6          1.0      0.83\n",
      "36  new_reg  Coef_ridge  Jaccard   7          1.0      0.83\n",
      "37  new_reg  Coef_ridge  Jaccard   8          1.0      0.83\n",
      "38  new_reg  Coef_ridge  Jaccard   9          1.0      0.83\n",
      "39  new_reg  Coef_ridge  Jaccard  10          1.0      0.83\n",
      "40  new_reg  Coef_ridge  Jaccard  11          1.0      0.83\n",
      "41  new_reg  Coef_ridge  Jaccard  12          1.0      0.83\n",
      "42  new_reg  Coef_ridge  Jaccard  13          1.0      0.83\n",
      "43  new_reg  Coef_ridge  Jaccard  14          1.0      0.83\n",
      "44  new_reg  Coef_ridge  Jaccard  15          1.0      0.83\n",
      "45  new_reg  Coef_ridge  Jaccard  16          1.0      0.83\n",
      "46  new_reg  Coef_ridge  Jaccard  17          1.0      0.83\n",
      "47  new_reg  Coef_ridge  Jaccard  18          1.0      0.83\n",
      "48  new_reg  Coef_ridge  Jaccard  19          1.0      0.83\n",
      "49  new_reg  Coef_ridge  Jaccard  20          1.0      0.83\n",
      "50  new_reg  Coef_ridge  Jaccard  21          1.0      0.83\n",
      "51  new_reg  Coef_ridge  Jaccard  22          1.0      0.83\n",
      "52  new_reg  Coef_ridge  Jaccard  23          1.0      0.83\n",
      "53  new_reg  Coef_ridge  Jaccard  24          1.0      0.83\n",
      "54  new_reg  Coef_ridge  Jaccard  25          1.0      0.83\n",
      "55  new_reg  Coef_ridge  Jaccard  26          1.0      0.83\n",
      "56  new_reg  Coef_ridge  Jaccard  27          1.0      0.83\n",
      "57  new_reg  Coef_ridge  Jaccard  28          1.0      0.83\n",
      "58  new_reg  Coef_ridge  Jaccard  29          1.0      0.83\n",
      "59  new_reg  Coef_ridge  Jaccard  30          1.0      0.83\n"
     ]
    }
   ],
   "source": [
    "from sklearn.linear_model import LogisticRegressionCV\n",
    "estimator=LogisticRegressionCV()\n",
    "importance_func=None\n",
    "\n",
    "data_class=(x,y)\n",
    "model_class = imlreliability.feature_importance.feature_impoClass(data_class,estimator,sigma=1,\n",
    "                 importance_func=importance_func,\n",
    "        \n",
    "                 n_repeat=3,split_proportion=0.7,\n",
    "                rand_index=1,\n",
    "                get_prediction_consistency ==True)\n",
    "model_class.fit()\n",
    "model_class.consistency(data_name='new_reg', estimator_name='LogisticRidge',impotance_func_name='Coef')\n",
    "print(model_class.accuracy)\n",
    "print(model_class.consistency)"
   ]
  },
  {
   "cell_type": "code",
   "execution_count": null,
   "id": "3965084f",
   "metadata": {},
   "outputs": [],
   "source": [
    "from sklearn.linear_model import RidgeCV\n"
   ]
  }
 ],
 "metadata": {
  "kernelspec": {
   "display_name": "Python 3 (ipykernel)",
   "language": "python",
   "name": "python3"
  },
  "language_info": {
   "codemirror_mode": {
    "name": "ipython",
    "version": 3
   },
   "file_extension": ".py",
   "mimetype": "text/x-python",
   "name": "python",
   "nbconvert_exporter": "python",
   "pygments_lexer": "ipython3",
   "version": "3.9.12"
  }
 },
 "nbformat": 4,
 "nbformat_minor": 5
}
