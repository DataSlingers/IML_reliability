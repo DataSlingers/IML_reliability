{
 "cells": [
  {
   "cell_type": "markdown",
   "id": "a103e243",
   "metadata": {},
   "source": [
    "### Import packages"
   ]
  },
  {
   "cell_type": "code",
   "execution_count": 1,
   "id": "66faeb56",
   "metadata": {
    "scrolled": true
   },
   "outputs": [
    {
     "name": "stderr",
     "output_type": "stream",
     "text": [
      "/Users/melinda/opt/anaconda3/lib/python3.9/site-packages/scipy/__init__.py:146: UserWarning: A NumPy version >=1.16.5 and <1.23.0 is required for this version of SciPy (detected version 1.24.2\n",
      "  warnings.warn(f\"A NumPy version >={np_minversion} and <{np_maxversion}\"\n"
     ]
    }
   ],
   "source": [
    "import imlreliability\n",
    "import pandas as pd\n",
    "import numpy as np#### Load Packages dir(imlreliability)"
   ]
  },
  {
   "cell_type": "code",
   "execution_count": 2,
   "id": "a39f3aea",
   "metadata": {},
   "outputs": [
    {
     "data": {
      "text/plain": [
       "['__all__',\n",
       " '__builtins__',\n",
       " '__cached__',\n",
       " '__doc__',\n",
       " '__file__',\n",
       " '__loader__',\n",
       " '__name__',\n",
       " '__package__',\n",
       " '__path__',\n",
       " '__spec__',\n",
       " '__version__',\n",
       " '_version',\n",
       " 'clustering',\n",
       " 'dimension_reduction',\n",
       " 'feature_importance']"
      ]
     },
     "execution_count": 2,
     "metadata": {},
     "output_type": "execute_result"
    }
   ],
   "source": [
    "dir(imlreliability)"
   ]
  },
  {
   "cell_type": "code",
   "execution_count": 3,
   "id": "8b367092",
   "metadata": {},
   "outputs": [
    {
     "data": {
      "text/plain": [
       "['__all__',\n",
       " '__builtins__',\n",
       " '__cached__',\n",
       " '__doc__',\n",
       " '__file__',\n",
       " '__loader__',\n",
       " '__name__',\n",
       " '__package__',\n",
       " '__path__',\n",
       " '__spec__',\n",
       " '_feature_impo',\n",
       " 'feature_impoClass',\n",
       " 'feature_impoClass_MLP',\n",
       " 'feature_impoReg',\n",
       " 'feature_impoReg_MLP',\n",
       " 'rbo',\n",
       " 'util_feature_impo']"
      ]
     },
     "execution_count": 3,
     "metadata": {},
     "output_type": "execute_result"
    }
   ],
   "source": [
    "dir(imlreliability.feature_importance)\n"
   ]
  },
  {
   "cell_type": "markdown",
   "id": "71b4ead9",
   "metadata": {},
   "source": [
    "### Feature Importance"
   ]
  },
  {
   "cell_type": "markdown",
   "id": "6f55201c",
   "metadata": {},
   "source": [
    "#### Load data"
   ]
  },
  {
   "cell_type": "code",
   "execution_count": 4,
   "id": "a6939a9b",
   "metadata": {},
   "outputs": [],
   "source": [
    "from sklearn.preprocessing import scale, normalize\n",
    "csv_url = 'https://archive.ics.uci.edu/ml/machine-learning-databases/iris/iris.data'\n",
    "col_names = ['Sepal_Length','Sepal_Width','Petal_Length','Petal_Width','Class']\n",
    "data =  pd.read_csv(csv_url, names = col_names)\n",
    "y =(data['Class'])\n",
    "x = data[['Sepal_Length','Sepal_Width','Petal_Length','Petal_Width']]\n",
    "\n",
    "### scale and normalize data \n",
    "x = normalize(scale(x))\n"
   ]
  },
  {
   "cell_type": "markdown",
   "id": "403b6709",
   "metadata": {},
   "source": [
    "### Model specific IML method\n"
   ]
  },
  {
   "cell_type": "code",
   "execution_count": 5,
   "id": "171c50cf",
   "metadata": {},
   "outputs": [
    {
     "ename": "SyntaxError",
     "evalue": "invalid syntax (681706079.py, line 1)",
     "output_type": "error",
     "traceback": [
      "\u001b[0;36m  Input \u001b[0;32mIn [5]\u001b[0;36m\u001b[0m\n\u001b[0;31m    from\u001b[0m\n\u001b[0m         ^\u001b[0m\n\u001b[0;31mSyntaxError\u001b[0m\u001b[0;31m:\u001b[0m invalid syntax\n"
     ]
    }
   ],
   "source": [
    "from "
   ]
  },
  {
   "cell_type": "markdown",
   "id": "02816bf7",
   "metadata": {},
   "source": [
    "#### Linear model"
   ]
  },
  {
   "cell_type": "code",
   "execution_count": 7,
   "id": "76ce38e8",
   "metadata": {},
   "outputs": [
    {
     "name": "stdout",
     "output_type": "stream",
     "text": [
      "0\n",
      "Iter:  0\n",
      "use coefs as feature importance \n",
      "1\n",
      "Iter:  1\n",
      "use coefs as feature importance \n",
      "2\n",
      "Iter:  2\n",
      "use coefs as feature importance \n",
      "Importance Function is  Coef_LogisticRidge\n",
      "      data          model  Accuracy\n",
      "0  new_reg  LogisticRidge  0.822222\n",
      "1  new_reg  LogisticRidge  0.777778\n",
      "2  new_reg  LogisticRidge  0.933333\n",
      "       data              method criteria   K  Consistency  Accuracy\n",
      "0   new_reg  Coef_LogisticRidge      RBO   1        0.500     0.844\n",
      "1   new_reg  Coef_LogisticRidge      RBO   2        0.750     0.844\n",
      "2   new_reg  Coef_LogisticRidge      RBO   3        0.833     0.844\n",
      "3   new_reg  Coef_LogisticRidge      RBO   4        0.875     0.844\n",
      "4   new_reg  Coef_LogisticRidge      RBO   5        0.875     0.844\n",
      "5   new_reg  Coef_LogisticRidge      RBO   6        0.875     0.844\n",
      "6   new_reg  Coef_LogisticRidge      RBO   7        0.875     0.844\n",
      "7   new_reg  Coef_LogisticRidge      RBO   8        0.875     0.844\n",
      "8   new_reg  Coef_LogisticRidge      RBO   9        0.875     0.844\n",
      "9   new_reg  Coef_LogisticRidge      RBO  10        0.875     0.844\n",
      "10  new_reg  Coef_LogisticRidge      RBO  11        0.875     0.844\n",
      "11  new_reg  Coef_LogisticRidge      RBO  12        0.875     0.844\n",
      "12  new_reg  Coef_LogisticRidge      RBO  13        0.875     0.844\n",
      "13  new_reg  Coef_LogisticRidge      RBO  14        0.875     0.844\n",
      "14  new_reg  Coef_LogisticRidge      RBO  15        0.875     0.844\n",
      "15  new_reg  Coef_LogisticRidge      RBO  16        0.875     0.844\n",
      "16  new_reg  Coef_LogisticRidge      RBO  17        0.875     0.844\n",
      "17  new_reg  Coef_LogisticRidge      RBO  18        0.875     0.844\n",
      "18  new_reg  Coef_LogisticRidge      RBO  19        0.875     0.844\n",
      "19  new_reg  Coef_LogisticRidge      RBO  20        0.875     0.844\n",
      "20  new_reg  Coef_LogisticRidge      RBO  21        0.875     0.844\n",
      "21  new_reg  Coef_LogisticRidge      RBO  22        0.875     0.844\n",
      "22  new_reg  Coef_LogisticRidge      RBO  23        0.875     0.844\n",
      "23  new_reg  Coef_LogisticRidge      RBO  24        0.875     0.844\n",
      "24  new_reg  Coef_LogisticRidge      RBO  25        0.875     0.844\n",
      "25  new_reg  Coef_LogisticRidge      RBO  26        0.875     0.844\n",
      "26  new_reg  Coef_LogisticRidge      RBO  27        0.875     0.844\n",
      "27  new_reg  Coef_LogisticRidge      RBO  28        0.875     0.844\n",
      "28  new_reg  Coef_LogisticRidge      RBO  29        0.875     0.844\n",
      "29  new_reg  Coef_LogisticRidge      RBO  30        0.875     0.844\n",
      "30  new_reg  Coef_LogisticRidge  Jaccard   1        0.500     0.844\n",
      "31  new_reg  Coef_LogisticRidge  Jaccard   2        1.000     0.844\n",
      "32  new_reg  Coef_LogisticRidge  Jaccard   3        1.000     0.844\n",
      "33  new_reg  Coef_LogisticRidge  Jaccard   4        1.000     0.844\n",
      "34  new_reg  Coef_LogisticRidge  Jaccard   5        1.000     0.844\n",
      "35  new_reg  Coef_LogisticRidge  Jaccard   6        1.000     0.844\n",
      "36  new_reg  Coef_LogisticRidge  Jaccard   7        1.000     0.844\n",
      "37  new_reg  Coef_LogisticRidge  Jaccard   8        1.000     0.844\n",
      "38  new_reg  Coef_LogisticRidge  Jaccard   9        1.000     0.844\n",
      "39  new_reg  Coef_LogisticRidge  Jaccard  10        1.000     0.844\n",
      "40  new_reg  Coef_LogisticRidge  Jaccard  11        1.000     0.844\n",
      "41  new_reg  Coef_LogisticRidge  Jaccard  12        1.000     0.844\n",
      "42  new_reg  Coef_LogisticRidge  Jaccard  13        1.000     0.844\n",
      "43  new_reg  Coef_LogisticRidge  Jaccard  14        1.000     0.844\n",
      "44  new_reg  Coef_LogisticRidge  Jaccard  15        1.000     0.844\n",
      "45  new_reg  Coef_LogisticRidge  Jaccard  16        1.000     0.844\n",
      "46  new_reg  Coef_LogisticRidge  Jaccard  17        1.000     0.844\n",
      "47  new_reg  Coef_LogisticRidge  Jaccard  18        1.000     0.844\n",
      "48  new_reg  Coef_LogisticRidge  Jaccard  19        1.000     0.844\n",
      "49  new_reg  Coef_LogisticRidge  Jaccard  20        1.000     0.844\n",
      "50  new_reg  Coef_LogisticRidge  Jaccard  21        1.000     0.844\n",
      "51  new_reg  Coef_LogisticRidge  Jaccard  22        1.000     0.844\n",
      "52  new_reg  Coef_LogisticRidge  Jaccard  23        1.000     0.844\n",
      "53  new_reg  Coef_LogisticRidge  Jaccard  24        1.000     0.844\n",
      "54  new_reg  Coef_LogisticRidge  Jaccard  25        1.000     0.844\n",
      "55  new_reg  Coef_LogisticRidge  Jaccard  26        1.000     0.844\n",
      "56  new_reg  Coef_LogisticRidge  Jaccard  27        1.000     0.844\n",
      "57  new_reg  Coef_LogisticRidge  Jaccard  28        1.000     0.844\n",
      "58  new_reg  Coef_LogisticRidge  Jaccard  29        1.000     0.844\n",
      "59  new_reg  Coef_LogisticRidge  Jaccard  30        1.000     0.844\n",
      "     Entropy     data          model  Purity\n",
      "0       -0.0  new_reg  LogisticRidge     NaN\n",
      "1       -0.0  new_reg  LogisticRidge     NaN\n",
      "2        0.0  new_reg  LogisticRidge     NaN\n",
      "3       -0.0  new_reg  LogisticRidge     NaN\n",
      "4        0.0  new_reg  LogisticRidge     NaN\n",
      "..       ...      ...            ...     ...\n",
      "145      0.0  new_reg  LogisticRidge     NaN\n",
      "146      0.0  new_reg  LogisticRidge     NaN\n",
      "147     -0.0  new_reg  LogisticRidge     NaN\n",
      "148     -0.0  new_reg  LogisticRidge     NaN\n",
      "149     -0.0  new_reg  LogisticRidge     NaN\n",
      "\n",
      "[150 rows x 4 columns]\n"
     ]
    },
    {
     "name": "stderr",
     "output_type": "stream",
     "text": [
      "/Users/melinda/opt/anaconda3/lib/python3.9/site-packages/IML_reliability-0.1-py3.9.egg/imlreliability/feature_importance/_feature_impo.py:85: RuntimeWarning: invalid value encountered in divide\n"
     ]
    }
   ],
   "source": [
    "from sklearn.linear_model import LogisticRegressionCV\n",
    "estimator=LogisticRegressionCV()\n",
    "importance_func=None\n",
    "\n",
    "data_class=(x,y)\n",
    "model_class = imlreliability.feature_importance.feature_impoClass(data_class,estimator,sigma=1,\n",
    "                 importance_func=importance_func,\n",
    "        \n",
    "                 n_repeat=3,split_proportion=0.7,\n",
    "                rand_index=1)\n",
    "model_class.fit()\n",
    "model_class.consistency(data_name='new_reg', estimator_name='LogisticRidge',impotance_func_name='Coef')\n",
    "print(model_class.accuracy)\n",
    "print(model_class.consistency)\n",
    "print(model_class.prediction_consistency)\n"
   ]
  },
  {
   "cell_type": "code",
   "execution_count": 13,
   "id": "8bb5ede9",
   "metadata": {},
   "outputs": [
    {
     "ename": "ValueError",
     "evalue": "invalid literal for int() with base 10: 'ir'",
     "output_type": "error",
     "traceback": [
      "\u001b[0;31m---------------------------------------------------------------------------\u001b[0m",
      "\u001b[0;31mValueError\u001b[0m                                Traceback (most recent call last)",
      "Input \u001b[0;32mIn [13]\u001b[0m, in \u001b[0;36m<cell line: 1>\u001b[0;34m()\u001b[0m\n\u001b[0;32m----> 1\u001b[0m \u001b[38;5;28;43mint\u001b[39;49m\u001b[43m(\u001b[49m\u001b[38;5;124;43m'\u001b[39;49m\u001b[38;5;124;43mir\u001b[39;49m\u001b[38;5;124;43m'\u001b[39;49m\u001b[43m)\u001b[49m\n",
      "\u001b[0;31mValueError\u001b[0m: invalid literal for int() with base 10: 'ir'"
     ]
    }
   ],
   "source": [
    "int('ir')"
   ]
  },
  {
   "cell_type": "code",
   "execution_count": 11,
   "id": "0b00d436",
   "metadata": {},
   "outputs": [
    {
     "data": {
      "text/plain": [
       "[array(['Ir', 'NA', 'NA', 'Ir', 'NA', 'NA', 'Ir', 'NA', 'NA', 'Ir', 'NA',\n",
       "        'NA', 'Ir', 'NA', 'NA', 'NA', 'NA', 'NA', 'NA', 'Ir', 'NA', 'Ir',\n",
       "        'NA', 'Ir', 'Ir', 'NA', 'NA', 'NA', 'NA', 'NA', 'NA', 'NA', 'NA',\n",
       "        'NA', 'NA', 'NA', 'Ir', 'Ir', 'NA', 'Ir', 'NA', 'NA', 'NA', 'NA',\n",
       "        'Ir', 'NA', 'Ir', 'Ir', 'NA', 'NA', 'Ir', 'Ir', 'NA', 'NA', 'Ir',\n",
       "        'Ir', 'NA', 'NA', 'NA', 'NA', 'NA', 'Ir', 'NA', 'NA', 'NA', 'Ir',\n",
       "        'NA', 'Ir', 'Ir', 'NA', 'NA', 'NA', 'NA', 'NA', 'NA', 'NA', 'NA',\n",
       "        'NA', 'NA', 'NA', 'NA', 'Ir', 'NA', 'NA', 'NA', 'Ir', 'Ir', 'NA',\n",
       "        'Ir', 'Ir', 'Ir', 'NA', 'NA', 'NA', 'NA', 'NA', 'NA', 'NA', 'NA',\n",
       "        'Ir', 'Ir', 'NA', 'Ir', 'Ir', 'NA', 'NA', 'NA', 'NA', 'NA', 'Ir',\n",
       "        'Ir', 'NA', 'NA', 'Ir', 'NA', 'NA', 'NA', 'NA', 'NA', 'NA', 'NA',\n",
       "        'Ir', 'NA', 'Ir', 'NA', 'NA', 'NA', 'NA', 'NA', 'Ir', 'NA', 'NA',\n",
       "        'NA', 'NA', 'Ir', 'NA', 'Ir', 'NA', 'NA', 'Ir', 'NA', 'NA', 'Ir',\n",
       "        'NA', 'NA', 'NA', 'NA', 'Ir', 'NA', 'Ir'], dtype='<U2'),\n",
       " array(['Ir', 'Ir', 'NA', 'NA', 'NA', 'Ir', 'Ir', 'Ir', 'Ir', 'Ir', 'NA',\n",
       "        'Ir', 'Ir', 'NA', 'NA', 'Ir', 'Ir', 'NA', 'NA', 'NA', 'NA', 'NA',\n",
       "        'NA', 'NA', 'NA', 'Ir', 'NA', 'NA', 'NA', 'NA', 'NA', 'NA', 'NA',\n",
       "        'NA', 'NA', 'NA', 'NA', 'Ir', 'NA', 'NA', 'NA', 'NA', 'NA', 'Ir',\n",
       "        'NA', 'NA', 'NA', 'Ir', 'NA', 'NA', 'Ir', 'NA', 'NA', 'Ir', 'Ir',\n",
       "        'NA', 'Ir', 'Ir', 'NA', 'NA', 'NA', 'NA', 'Ir', 'NA', 'NA', 'Ir',\n",
       "        'Ir', 'NA', 'Ir', 'NA', 'NA', 'Ir', 'NA', 'NA', 'Ir', 'Ir', 'Ir',\n",
       "        'NA', 'NA', 'NA', 'NA', 'NA', 'NA', 'NA', 'NA', 'NA', 'NA', 'NA',\n",
       "        'NA', 'NA', 'NA', 'NA', 'NA', 'NA', 'Ir', 'NA', 'NA', 'NA', 'Ir',\n",
       "        'NA', 'NA', 'NA', 'Ir', 'NA', 'NA', 'NA', 'Ir', 'Ir', 'Ir', 'NA',\n",
       "        'NA', 'Ir', 'Ir', 'Ir', 'NA', 'NA', 'NA', 'NA', 'NA', 'NA', 'Ir',\n",
       "        'Ir', 'NA', 'NA', 'NA', 'NA', 'NA', 'Ir', 'NA', 'NA', 'NA', 'NA',\n",
       "        'NA', 'NA', 'NA', 'NA', 'NA', 'NA', 'NA', 'NA', 'NA', 'Ir', 'NA',\n",
       "        'NA', 'Ir', 'NA', 'NA', 'Ir', 'Ir', 'Ir'], dtype='<U2'),\n",
       " array(['NA', 'NA', 'NA', 'NA', 'NA', 'NA', 'NA', 'Ir', 'Ir', 'NA', 'NA',\n",
       "        'Ir', 'NA', 'NA', 'NA', 'Ir', 'NA', 'NA', 'Ir', 'NA', 'NA', 'Ir',\n",
       "        'Ir', 'NA', 'NA', 'NA', 'NA', 'NA', 'NA', 'NA', 'NA', 'Ir', 'NA',\n",
       "        'NA', 'Ir', 'NA', 'NA', 'NA', 'Ir', 'NA', 'Ir', 'NA', 'Ir', 'Ir',\n",
       "        'NA', 'Ir', 'NA', 'NA', 'NA', 'Ir', 'NA', 'NA', 'NA', 'NA', 'NA',\n",
       "        'NA', 'NA', 'NA', 'Ir', 'Ir', 'Ir', 'NA', 'Ir', 'NA', 'NA', 'NA',\n",
       "        'NA', 'Ir', 'NA', 'Ir', 'NA', 'NA', 'Ir', 'NA', 'NA', 'NA', 'Ir',\n",
       "        'NA', 'NA', 'NA', 'NA', 'NA', 'Ir', 'NA', 'NA', 'NA', 'NA', 'NA',\n",
       "        'NA', 'NA', 'Ir', 'Ir', 'Ir', 'NA', 'NA', 'Ir', 'NA', 'Ir', 'NA',\n",
       "        'Ir', 'Ir', 'NA', 'NA', 'NA', 'NA', 'NA', 'NA', 'NA', 'NA', 'NA',\n",
       "        'NA', 'Ir', 'NA', 'Ir', 'NA', 'Ir', 'NA', 'Ir', 'NA', 'NA', 'Ir',\n",
       "        'NA', 'Ir', 'NA', 'NA', 'NA', 'Ir', 'Ir', 'Ir', 'NA', 'Ir', 'NA',\n",
       "        'NA', 'NA', 'NA', 'NA', 'Ir', 'Ir', 'NA', 'Ir', 'Ir', 'NA', 'NA',\n",
       "        'NA', 'NA', 'NA', 'NA', 'NA', 'NA', 'NA'], dtype='<U2')]"
      ]
     },
     "execution_count": 11,
     "metadata": {},
     "output_type": "execute_result"
    }
   ],
   "source": [
    "model_class.test_yhat"
   ]
  },
  {
   "cell_type": "code",
   "execution_count": null,
   "id": "9e8e578d",
   "metadata": {},
   "outputs": [],
   "source": [
    "import collections"
   ]
  },
  {
   "cell_type": "code",
   "execution_count": null,
   "id": "035d27cd",
   "metadata": {},
   "outputs": [],
   "source": [
    "from sklearn.linear_model import RidgeCV\n"
   ]
  }
 ],
 "metadata": {
  "kernelspec": {
   "display_name": "Python 3 (ipykernel)",
   "language": "python",
   "name": "python3"
  },
  "language_info": {
   "codemirror_mode": {
    "name": "ipython",
    "version": 3
   },
   "file_extension": ".py",
   "mimetype": "text/x-python",
   "name": "python",
   "nbconvert_exporter": "python",
   "pygments_lexer": "ipython3",
   "version": "3.9.12"
  }
 },
 "nbformat": 4,
 "nbformat_minor": 5
}
