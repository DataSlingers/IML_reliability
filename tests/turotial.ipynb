{
 "cells": [
  {
   "cell_type": "markdown",
   "id": "421b246d",
   "metadata": {},
   "source": [
    "### Import packages"
   ]
  },
  {
   "cell_type": "code",
   "execution_count": 1,
   "id": "66faeb56",
   "metadata": {
    "scrolled": false
   },
   "outputs": [
    {
     "name": "stderr",
     "output_type": "stream",
     "text": [
      "/Users/melinda/opt/anaconda3/lib/python3.9/site-packages/scipy/__init__.py:146: UserWarning: A NumPy version >=1.16.5 and <1.23.0 is required for this version of SciPy (detected version 1.24.2\n",
      "  warnings.warn(f\"A NumPy version >={np_minversion} and <{np_maxversion}\"\n"
     ]
    }
   ],
   "source": [
    "import imlreliability\n",
    "import pandas as pd\n",
    "import numpy as np#### Load Packages dir(imlreliability)"
   ]
  },
  {
   "cell_type": "markdown",
   "id": "a42c6d2b",
   "metadata": {},
   "source": [
    "### Feature Importance"
   ]
  },
  {
   "cell_type": "markdown",
   "id": "5a1b0a40",
   "metadata": {},
   "source": [
    "#### Load data"
   ]
  },
  {
   "cell_type": "code",
   "execution_count": 2,
   "id": "da1a42cf",
   "metadata": {},
   "outputs": [],
   "source": [
    "from sklearn.preprocessing import scale, normalize\n",
    "csv_url = 'https://archive.ics.uci.edu/ml/machine-learning-databases/iris/iris.data'\n",
    "col_names = ['Sepal_Length','Sepal_Width','Petal_Length','Petal_Width','Class']\n",
    "data =  pd.read_csv(csv_url, names = col_names)\n",
    "y =(data['Class'])\n",
    "x = data[['Sepal_Length','Sepal_Width','Petal_Length','Petal_Width']]\n",
    "\n",
    "### scale and normalize data \n",
    "x = normalize(scale(x))\n",
    "data_class=(x,y)\n"
   ]
  },
  {
   "cell_type": "markdown",
   "id": "0e0e7516",
   "metadata": {},
   "source": [
    "### Model specific IML method\n"
   ]
  },
  {
   "cell_type": "markdown",
   "id": "810ad298",
   "metadata": {},
   "source": [
    "#### Linear model"
   ]
  },
  {
   "cell_type": "code",
   "execution_count": 3,
   "id": "731e66aa",
   "metadata": {
    "scrolled": true
   },
   "outputs": [
    {
     "name": "stdout",
     "output_type": "stream",
     "text": [
      "0\n",
      "Iter:  0\n",
      "use coefs as feature importance \n",
      "1\n",
      "Iter:  1\n",
      "use coefs as feature importance \n",
      "2\n",
      "Iter:  2\n",
      "use coefs as feature importance \n",
      "3\n",
      "Iter:  3\n",
      "use coefs as feature importance \n",
      "4\n",
      "Iter:  4\n",
      "use coefs as feature importance \n",
      "5\n",
      "Iter:  5\n",
      "use coefs as feature importance \n",
      "6\n",
      "Iter:  6\n",
      "use coefs as feature importance \n",
      "7\n",
      "Iter:  7\n",
      "use coefs as feature importance \n",
      "8\n",
      "Iter:  8\n",
      "use coefs as feature importance \n",
      "9\n",
      "Iter:  9\n",
      "use coefs as feature importance \n",
      "Importance Function is  Coef_LogisticRidge\n",
      "   data          model  Accuracy\n",
      "0  Iris  LogisticRidge  0.822222\n",
      "1  Iris  LogisticRidge  0.777778\n",
      "2  Iris  LogisticRidge  0.933333\n",
      "3  Iris  LogisticRidge  0.844444\n",
      "4  Iris  LogisticRidge  0.888889\n",
      "5  Iris  LogisticRidge  0.866667\n",
      "6  Iris  LogisticRidge  0.866667\n",
      "7  Iris  LogisticRidge  0.911111\n",
      "8  Iris  LogisticRidge  0.777778\n",
      "9  Iris  LogisticRidge  0.755556\n",
      "   data              method criteria  K  Consistency  Accuracy\n",
      "0  Iris  Coef_LogisticRidge      RBO  1        0.778     0.844\n",
      "1  Iris  Coef_LogisticRidge      RBO  2        0.889     0.844\n",
      "2  Iris  Coef_LogisticRidge      RBO  3        0.926     0.844\n",
      "3  Iris  Coef_LogisticRidge      RBO  4        0.944     0.844\n",
      "4  Iris  Coef_LogisticRidge  Jaccard  1        0.778     0.844\n",
      "5  Iris  Coef_LogisticRidge  Jaccard  2        1.000     0.844\n",
      "6  Iris  Coef_LogisticRidge  Jaccard  3        1.000     0.844\n",
      "7  Iris  Coef_LogisticRidge  Jaccard  4        1.000     0.844\n",
      "   data          model   Entropy    Purity\n",
      "0  Iris  LogisticRidge  0.073236  0.894342\n"
     ]
    }
   ],
   "source": [
    "from sklearn.linear_model import LogisticRegressionCV\n",
    "estimator=LogisticRegressionCV()\n",
    "importance_func=None\n",
    "\n",
    "model_class = imlreliability.feature_importance.feature_impoClass(data_class,estimator,sigma=1,\n",
    "                 importance_func=importance_func,\n",
    "                 n_repeat=10,split_proportion=0.7,\n",
    "                rand_index=1)\n",
    "model_class.fit()\n",
    "model_class.consistency(data_name='Iris', estimator_name='LogisticRidge',impotance_func_name='Coef')\n",
    "print(model_class.accuracy)\n",
    "print(model_class.consistency)\n",
    "print(model_class.prediction_consistency)\n",
    "\n",
    "## model_class.consistency.to_csv('consis_test_fi_class.csv')\n"
   ]
  },
  {
   "cell_type": "code",
   "execution_count": 7,
   "id": "4cb7520c",
   "metadata": {},
   "outputs": [
    {
     "data": {
      "text/html": [
       "<div>\n",
       "<style scoped>\n",
       "    .dataframe tbody tr th:only-of-type {\n",
       "        vertical-align: middle;\n",
       "    }\n",
       "\n",
       "    .dataframe tbody tr th {\n",
       "        vertical-align: top;\n",
       "    }\n",
       "\n",
       "    .dataframe thead th {\n",
       "        text-align: right;\n",
       "    }\n",
       "</style>\n",
       "<table border=\"1\" class=\"dataframe\">\n",
       "  <thead>\n",
       "    <tr style=\"text-align: right;\">\n",
       "      <th></th>\n",
       "      <th>data</th>\n",
       "      <th>model</th>\n",
       "      <th>Entropy</th>\n",
       "      <th>Purity</th>\n",
       "    </tr>\n",
       "  </thead>\n",
       "  <tbody>\n",
       "    <tr>\n",
       "      <th>0</th>\n",
       "      <td>Iris</td>\n",
       "      <td>LogisticRidge</td>\n",
       "      <td>0.073236</td>\n",
       "      <td>0.894342</td>\n",
       "    </tr>\n",
       "  </tbody>\n",
       "</table>\n",
       "</div>"
      ],
      "text/plain": [
       "   data          model   Entropy    Purity\n",
       "0  Iris  LogisticRidge  0.073236  0.894342"
      ]
     },
     "execution_count": 7,
     "metadata": {},
     "output_type": "execute_result"
    }
   ],
   "source": [
    "model_class.prediction_consistency.groupby(['data','model']).mean().reset_index()"
   ]
  },
  {
   "cell_type": "markdown",
   "id": "c1d10232",
   "metadata": {},
   "source": [
    "#### Tree-base model"
   ]
  },
  {
   "cell_type": "code",
   "execution_count": 4,
   "id": "6fc0bf04",
   "metadata": {
    "collapsed": true
   },
   "outputs": [
    {
     "name": "stdout",
     "output_type": "stream",
     "text": [
      "0\n",
      "Iter:  0\n",
      "use coefs as feature importance \n",
      "1\n",
      "Iter:  1\n",
      "use coefs as feature importance \n",
      "2\n",
      "Iter:  2\n",
      "use coefs as feature importance \n",
      "Importance Function is  FI_RF\n",
      "   data model  Accuracy\n",
      "0  Iris    RF  0.822222\n",
      "1  Iris    RF  0.777778\n",
      "2  Iris    RF  0.933333\n",
      "   data method criteria  K  Consistency  Accuracy\n",
      "0  Iris  FI_RF      RBO  1        0.500     0.844\n",
      "1  Iris  FI_RF      RBO  2        0.750     0.844\n",
      "2  Iris  FI_RF      RBO  3        0.833     0.844\n",
      "3  Iris  FI_RF      RBO  4        0.875     0.844\n",
      "4  Iris  FI_RF  Jaccard  1        0.500     0.844\n",
      "5  Iris  FI_RF  Jaccard  2        1.000     0.844\n",
      "6  Iris  FI_RF  Jaccard  3        1.000     0.844\n",
      "7  Iris  FI_RF  Jaccard  4        1.000     0.844\n",
      "     Entropy  data model  Purity\n",
      "0       -0.0  Iris    RF     1.0\n",
      "1       -0.0  Iris    RF     1.0\n",
      "2        0.0  Iris    RF     1.0\n",
      "3       -0.0  Iris    RF     1.0\n",
      "4        0.0  Iris    RF     1.0\n",
      "..       ...   ...   ...     ...\n",
      "145      0.0  Iris    RF     1.0\n",
      "146      0.0  Iris    RF     1.0\n",
      "147     -0.0  Iris    RF     1.0\n",
      "148     -0.0  Iris    RF     1.0\n",
      "149     -0.0  Iris    RF     1.0\n",
      "\n",
      "[150 rows x 4 columns]\n"
     ]
    }
   ],
   "source": [
    "from sklearn.ensemble import RandomForestClassifier\n",
    "estimator_tree=RandomForestClassifier()\n",
    "importance_func=None\n",
    "\n",
    "\n",
    "model_class_tree=imlreliability.feature_importance.feature_impoClass(data_class,estimator,sigma=1,\n",
    "                 importance_func=importance_func,\n",
    "                 n_repeat=3,split_proportion=0.7,\n",
    "                rand_index=1)\n",
    "model_class_tree.fit()\n",
    "model_class_tree.consistency(data_name='Iris', estimator_name='RF',impotance_func_name='FI')\n",
    "print(model_class_tree.accuracy)\n",
    "print(model_class_tree.consistency)\n",
    "print(model_class_tree.prediction_consistency)\n"
   ]
  },
  {
   "cell_type": "markdown",
   "id": "c93198f9",
   "metadata": {},
   "source": [
    "### Model agnostic "
   ]
  },
  {
   "cell_type": "markdown",
   "id": "6b14f776",
   "metadata": {},
   "source": [
    "#### Permutation"
   ]
  },
  {
   "cell_type": "code",
   "execution_count": 11,
   "id": "313fc140",
   "metadata": {},
   "outputs": [
    {
     "name": "stdout",
     "output_type": "stream",
     "text": [
      "0\n",
      "Iter:  0\n",
      "1\n",
      "Iter:  1\n",
      "2\n",
      "Iter:  2\n",
      "Importance Function is  Permutation_RF\n",
      "   data model  Accuracy\n",
      "0  Iris    RF  0.822222\n",
      "1  Iris    RF  0.777778\n",
      "2  Iris    RF  0.933333\n",
      "   data          method criteria  K  Consistency  Accuracy\n",
      "0  Iris  Permutation_RF      RBO  1        0.500     0.844\n",
      "1  Iris  Permutation_RF      RBO  2        0.625     0.844\n",
      "2  Iris  Permutation_RF      RBO  3        0.694     0.844\n",
      "3  Iris  Permutation_RF      RBO  4        0.771     0.844\n",
      "4  Iris  Permutation_RF  Jaccard  1        0.500     0.844\n",
      "5  Iris  Permutation_RF  Jaccard  2        0.667     0.844\n",
      "6  Iris  Permutation_RF  Jaccard  3        0.750     0.844\n",
      "7  Iris  Permutation_RF  Jaccard  4        1.000     0.844\n",
      "     Entropy  data model  Purity\n",
      "0       -0.0  Iris    RF     1.0\n",
      "1       -0.0  Iris    RF     1.0\n",
      "2        0.0  Iris    RF     1.0\n",
      "3       -0.0  Iris    RF     1.0\n",
      "4        0.0  Iris    RF     1.0\n",
      "..       ...   ...   ...     ...\n",
      "145      0.0  Iris    RF     1.0\n",
      "146      0.0  Iris    RF     1.0\n",
      "147     -0.0  Iris    RF     1.0\n",
      "148     -0.0  Iris    RF     1.0\n",
      "149     -0.0  Iris    RF     1.0\n",
      "\n",
      "[150 rows x 4 columns]\n"
     ]
    }
   ],
   "source": [
    "from sklearn.inspection import permutation_importance\n",
    "estimator_tree=RandomForestClassifier()\n",
    "importance_func = permutation_importance ## change the importance function to be permutation \n",
    "\n",
    "\n",
    "model_class_tree_per=imlreliability.feature_importance.feature_impoClass(data_class,estimator,sigma=1,\n",
    "                 importance_func=importance_func,\n",
    "                 n_repeat=3,split_proportion=0.7,\n",
    "                rand_index=1)\n",
    "model_class_tree_per.fit()\n",
    "model_class_tree_per.consistency(data_name='Iris', estimator_name='RF',impotance_func_name='Permutation')\n",
    "print(model_class_tree_per.accuracy)\n",
    "print(model_class_tree_per.consistency)\n",
    "print(model_class_tree_per.prediction_consistency)\n"
   ]
  },
  {
   "cell_type": "markdown",
   "id": "9417d80d",
   "metadata": {},
   "source": [
    "#### Shapley Value \n",
    "\n",
    "###### error: cant import shap package, reinstall shap downgrade numpy to 1.21.6, while tensorflow needs 1.24.2"
   ]
  },
  {
   "cell_type": "markdown",
   "id": "ec4aef4c",
   "metadata": {},
   "source": [
    "we provide built-in importance functions from package shap and perumutation function from sklearn.inspection"
   ]
  },
  {
   "cell_type": "markdown",
   "id": "47f34278",
   "metadata": {},
   "source": [
    "Can also ues self-defined importance function, with three argument: (fitted model, training x, training y), and 1 output importance score in forms of list or array. \n",
    "\n",
    "importance_func(self.fitted,x_train, y_train)"
   ]
  },
  {
   "cell_type": "markdown",
   "id": "f6592275",
   "metadata": {},
   "source": [
    "### MLP+DeepExplain "
   ]
  },
  {
   "cell_type": "markdown",
   "id": "6263de05",
   "metadata": {},
   "source": [
    "We have built-in functions to run functions from deepexplain and  deeplift packages. As well permutation and shapley values. User can either input a function or a string from [\n",
    "                        'zero',\n",
    "                        'saliency',\n",
    "                        'grad*input',\n",
    "                        'intgrad',\n",
    "                        'elrp',\n",
    "                        'deeplift',\n",
    "                        'occlusion',\n",
    "                        'shapley_sampling'] to run deepExplain. \n",
    "Or input strings from ['NonlinearMxtsMode.RevealCancel','NonlinearMxtsMode.GuidedBackprop'...] to run corresponding functions in deeplift. \n",
    "\n",
    "\n"
   ]
  },
  {
   "cell_type": "markdown",
   "id": "2dd345af",
   "metadata": {},
   "source": [
    "Can also ues self-defined importance function, with three argument: (fitted model, training x, training y), and 1 output importance score in forms of list or array. \n",
    "    importance_func(model,x_train, y_train). Where model is .h5 file of MLP model. \n",
    "    \n",
    "    "
   ]
  },
  {
   "cell_type": "markdown",
   "id": "49f164ac",
   "metadata": {},
   "source": [
    "defined estimator needs to be form of :\n",
    "    def _base_model_classification():\n",
    "    model = Sequential()\n",
    "    model.add(Dense(M, input_dim=M, activation='relu'))\n",
    "    model.add(Dense(M, input_dim=M, activation='relu'))\n",
    "\n",
    "    model.add(Dense(num_class, activation='softmax'))\n",
    "    model.compile(loss='categorical_crossentropy', optimizer='adam', metrics=['accuracy'])\n",
    "\n",
    "\n",
    "    return model  \n"
   ]
  },
  {
   "cell_type": "code",
   "execution_count": 3,
   "id": "3d6afdc3",
   "metadata": {},
   "outputs": [
    {
     "name": "stderr",
     "output_type": "stream",
     "text": [
      "2023-02-21 17:32:29.702279: I tensorflow/core/common_runtime/pluggable_device/pluggable_device_factory.cc:306] Could not identify NUMA node of platform GPU ID 0, defaulting to 0. Your kernel may not have been built with NUMA support.\n",
      "2023-02-21 17:32:29.702298: I tensorflow/core/common_runtime/pluggable_device/pluggable_device_factory.cc:272] Created TensorFlow device (/job:localhost/replica:0/task:0/device:GPU:0 with 0 MB memory) -> physical PluggableDevice (device: 0, name: METAL, pci bus id: <undefined>)\n",
      "/Users/melinda/opt/anaconda3/lib/python3.9/site-packages/tensorflow/python/data/ops/structured_function.py:256: UserWarning: Even though the `tf.config.experimental_run_functions_eagerly` option is set, this option does not apply to tf.data functions. To force eager execution of tf.data functions, please use `tf.data.experimental.enable_debug_mode()`.\n",
      "  warnings.warn(\n",
      "/Users/melinda/opt/anaconda3/lib/python3.9/site-packages/tensorflow/python/data/ops/structured_function.py:256: UserWarning: Even though the `tf.config.experimental_run_functions_eagerly` option is set, this option does not apply to tf.data functions. To force eager execution of tf.data functions, please use `tf.data.experimental.enable_debug_mode()`.\n",
      "  warnings.warn(\n",
      "2023-02-21 17:32:29.830571: W tensorflow/tsl/platform/profile_utils/cpu_utils.cc:128] Failed to get CPU frequency: 0 Hz\n",
      "2023-02-21 17:32:29.853173: W tensorflow/core/framework/op_kernel.cc:1807] OP_REQUIRES failed at cast_op.cc:121 : UNIMPLEMENTED: Cast string to float is not supported\n"
     ]
    },
    {
     "name": "stdout",
     "output_type": "stream",
     "text": [
      "Metal device set to: Apple M1\n",
      "None\n",
      "Iter:  0\n",
      "4/4 [==============================] - 0s 20ms/step - loss: 1.2214 - accuracy: 0.2000\n",
      "4/4 [==============================] - 0s 14ms/step - loss: 1.1862 - accuracy: 0.2667\n",
      "2/2 [==============================] - 0s 17ms/step - loss: 1.1677 - accuracy: 0.2889\n",
      "2/2 [==============================] - 0s 9ms/step - loss: 1.1392 - accuracy: 0.3111\n",
      "2/2 [==============================] - 0s 9ms/step - loss: 1.1362 - accuracy: 0.2667\n",
      "2/2 [==============================] - 0s 10ms/step - loss: 1.2967 - accuracy: 0.3111\n",
      "1/2 [==============>...............] - ETA: 0s - loss: 1.1274 - accuracy: 0.3125"
     ]
    },
    {
     "name": "stderr",
     "output_type": "stream",
     "text": [
      "/Users/melinda/opt/anaconda3/lib/python3.9/site-packages/tensorflow/python/data/ops/structured_function.py:256: UserWarning: Even though the `tf.config.experimental_run_functions_eagerly` option is set, this option does not apply to tf.data functions. To force eager execution of tf.data functions, please use `tf.data.experimental.enable_debug_mode()`.\n",
      "  warnings.warn(\n"
     ]
    },
    {
     "name": "stdout",
     "output_type": "stream",
     "text": [
      "2/2 [==============================] - 0s 10ms/step - loss: 1.1163 - accuracy: 0.3111\n",
      "2/2 [==============================] - 0s 10ms/step - loss: 1.1227 - accuracy: 0.2889\n",
      "2/2 [==============================] - 0s 10ms/step - loss: 1.1271 - accuracy: 0.3111\n",
      "2/2 [==============================] - 0s 11ms/step - loss: 1.2609 - accuracy: 0.2667\n",
      "2/2 [==============================] - 0s 11ms/step - loss: 1.1257 - accuracy: 0.3111\n",
      "2/2 [==============================] - 0s 10ms/step - loss: 1.1301 - accuracy: 0.2667\n",
      "2/2 [==============================] - 0s 9ms/step - loss: 1.1340 - accuracy: 0.2889\n",
      "2/2 [==============================] - 0s 10ms/step - loss: 1.2583 - accuracy: 0.2444\n",
      "2/2 [==============================] - 0s 10ms/step - loss: 1.1145 - accuracy: 0.2889\n",
      "2/2 [==============================] - 0s 10ms/step - loss: 1.1241 - accuracy: 0.2667\n",
      "2/2 [==============================] - 0s 10ms/step - loss: 1.1159 - accuracy: 0.2667\n",
      "2/2 [==============================] - 0s 11ms/step - loss: 1.2701 - accuracy: 0.2667\n",
      "2/2 [==============================] - 0s 11ms/step - loss: 1.1177 - accuracy: 0.2889\n",
      "2/2 [==============================] - 0s 11ms/step - loss: 1.1534 - accuracy: 0.2889\n",
      "2/2 [==============================] - 0s 10ms/step - loss: 1.1452 - accuracy: 0.2000\n",
      "2/2 [==============================] - 0s 11ms/step - loss: 1.2674 - accuracy: 0.2667\n",
      "2/2 [==============================] - 0s 10ms/step - loss: 1.1312 - accuracy: 0.3333\n",
      "5/5 [==============================] - 0s 11ms/step - loss: 1.2212 - accuracy: 0.1778\n"
     ]
    },
    {
     "name": "stderr",
     "output_type": "stream",
     "text": [
      "2023-02-21 17:32:31.049391: W tensorflow/core/framework/op_kernel.cc:1807] OP_REQUIRES failed at cast_op.cc:121 : UNIMPLEMENTED: Cast string to float is not supported\n"
     ]
    },
    {
     "ename": "AttributeError",
     "evalue": "'History' object has no attribute 'predict'",
     "output_type": "error",
     "traceback": [
      "\u001b[0;31m---------------------------------------------------------------------------\u001b[0m",
      "\u001b[0;31mAttributeError\u001b[0m                            Traceback (most recent call last)",
      "Input \u001b[0;32mIn [3]\u001b[0m, in \u001b[0;36m<cell line: 10>\u001b[0;34m()\u001b[0m\n\u001b[1;32m      3\u001b[0m \u001b[38;5;66;03m## Two-layer default MLP will be computed if estimator =None. Can input user-defined MLP model\u001b[39;00m\n\u001b[1;32m      5\u001b[0m model_class_mlp_dl\u001b[38;5;241m=\u001b[39mimlreliability\u001b[38;5;241m.\u001b[39mfeature_importance\u001b[38;5;241m.\u001b[39mfeature_impoClass_MLP(data_class,\n\u001b[1;32m      6\u001b[0m                                                                            \n\u001b[1;32m      7\u001b[0m                  importance_func\u001b[38;5;241m=\u001b[39mPermutationImportance,\n\u001b[1;32m      8\u001b[0m                  n_repeat\u001b[38;5;241m=\u001b[39m\u001b[38;5;241m3\u001b[39m,split_proportion\u001b[38;5;241m=\u001b[39m\u001b[38;5;241m0.7\u001b[39m,\n\u001b[1;32m      9\u001b[0m                 rand_index\u001b[38;5;241m=\u001b[39m\u001b[38;5;241m1\u001b[39m)\n\u001b[0;32m---> 10\u001b[0m \u001b[43mmodel_class_mlp_dl\u001b[49m\u001b[38;5;241;43m.\u001b[39;49m\u001b[43mfit\u001b[49m\u001b[43m(\u001b[49m\u001b[43m)\u001b[49m\n\u001b[1;32m     11\u001b[0m model_class_mlp_dl\u001b[38;5;241m.\u001b[39mconsistency(data_name\u001b[38;5;241m=\u001b[39m\u001b[38;5;124m'\u001b[39m\u001b[38;5;124mIris\u001b[39m\u001b[38;5;124m'\u001b[39m, estimator_name\u001b[38;5;241m=\u001b[39m\u001b[38;5;124m'\u001b[39m\u001b[38;5;124mMLP\u001b[39m\u001b[38;5;124m'\u001b[39m,impotance_func_name\u001b[38;5;241m=\u001b[39m\u001b[38;5;124m'\u001b[39m\u001b[38;5;124mDeepLift\u001b[39m\u001b[38;5;124m'\u001b[39m)\n\u001b[1;32m     12\u001b[0m \u001b[38;5;28mprint\u001b[39m(model_class_mlp_dl\u001b[38;5;241m.\u001b[39maccuracy)\n",
      "File \u001b[0;32m~/opt/anaconda3/lib/python3.9/site-packages/IML_reliability-0.1-py3.9.egg/imlreliability/feature_importance/_feature_impo.py:935\u001b[0m, in \u001b[0;36mfeature_impoClass_MLP.fit\u001b[0;34m(self, *args, **kwargs)\u001b[0m\n\u001b[1;32m    933\u001b[0m \u001b[38;5;28mself\u001b[39m\u001b[38;5;241m.\u001b[39maccuracys\u001b[38;5;241m.\u001b[39mappend(acc)\n\u001b[1;32m    934\u001b[0m \u001b[38;5;28;01mif\u001b[39;00m \u001b[38;5;28mself\u001b[39m\u001b[38;5;241m.\u001b[39mget_prediction_consistency \u001b[38;5;241m==\u001b[39m\u001b[38;5;28;01mTrue\u001b[39;00m:\n\u001b[0;32m--> 935\u001b[0m     this_yhat \u001b[38;5;241m=\u001b[39m \u001b[43mfitted\u001b[49m\u001b[38;5;241;43m.\u001b[39;49m\u001b[43mpredict\u001b[49m(x_test, batch_size\u001b[38;5;241m=\u001b[39m\u001b[38;5;241m10\u001b[39m)\n\u001b[1;32m    936\u001b[0m     this_yhat \u001b[38;5;241m=\u001b[39m [np\u001b[38;5;241m.\u001b[39margmax(a) \u001b[38;5;28;01mfor\u001b[39;00m a \u001b[38;5;129;01min\u001b[39;00m this_yhat]\n\u001b[1;32m    937\u001b[0m     this_pred \u001b[38;5;241m=\u001b[39m \u001b[38;5;28mlist\u001b[39m(np\u001b[38;5;241m.\u001b[39mrepeat(\u001b[38;5;124m'\u001b[39m\u001b[38;5;124mNA\u001b[39m\u001b[38;5;124m'\u001b[39m,\u001b[38;5;28mlen\u001b[39m(X)))\n",
      "\u001b[0;31mAttributeError\u001b[0m: 'History' object has no attribute 'predict'"
     ]
    }
   ],
   "source": [
    "from eli5.sklearn import PermutationImportance\n",
    "importance_func =PermutationImportance\n",
    "## Two-layer default MLP will be computed if estimator =None. Can input user-defined MLP model\n",
    "\n",
    "model_class_mlp_dl=imlreliability.feature_importance.feature_impoClass_MLP(data_class,\n",
    "                                                                           \n",
    "                 importance_func=PermutationImportance,\n",
    "                 n_repeat=3,split_proportion=0.7,\n",
    "                rand_index=1)\n",
    "model_class_mlp_dl.fit()\n",
    "model_class_mlp_dl.consistency(data_name='Iris', estimator_name='MLP',impotance_func_name='DeepLift')\n",
    "print(model_class_mlp_dl.accuracy)\n",
    "print(model_class_mlp_dl.consistency)\n",
    "print(model_class_mlp_dl.prediction_consistency)\n"
   ]
  },
  {
   "cell_type": "code",
   "execution_count": 5,
   "id": "6eca8545",
   "metadata": {},
   "outputs": [],
   "source": [
    "from tensorflow.keras.wrappers.scikit_learn import KerasClassifier"
   ]
  },
  {
   "cell_type": "code",
   "execution_count": 5,
   "id": "ac02e12b",
   "metadata": {},
   "outputs": [],
   "source": [
    "## deepexplain package reuqires numpy =1.22.4, tf will have error"
   ]
  },
  {
   "cell_type": "code",
   "execution_count": 6,
   "id": "f3533ff8",
   "metadata": {},
   "outputs": [],
   "source": [
    "# from deepexplain.tensorflow import DeepExplain\n",
    "# importance_func ='elrp'\n",
    "\n",
    "# ## Two-layer default MLP will be computed if estimator =None. Can input user-defined MLP model\n",
    "\n",
    "# model_class_mlp_dl=imlreliability.feature_importance.feature_impoClass_MLP(data_class,\n",
    "                                                                           \n",
    "#                  importance_func=importance_func,\n",
    "#                  n_repeat=3,split_proportion=0.7,\n",
    "#                 rand_index=1)\n",
    "# model_class_mlp_dl.fit()\n",
    "# model_class_mlp_dl.consistency(data_name='Iris', estimator_name='MLP',impotance_func_name='DeepLift')\n",
    "# print(model_class_mlp_dl.accuracy)\n",
    "# print(model_class_mlp_dl.consistency)\n",
    "# print(model_class_mlp_dl.prediction_consistency)\n",
    "\n"
   ]
  },
  {
   "cell_type": "code",
   "execution_count": 9,
   "id": "4640484a",
   "metadata": {},
   "outputs": [
    {
     "name": "stdout",
     "output_type": "stream",
     "text": [
      "5/5 [==============================] - 0s 14ms/step - loss: 1.1847 - accuracy: 0.2533\n"
     ]
    },
    {
     "name": "stderr",
     "output_type": "stream",
     "text": [
      "/Users/melinda/opt/anaconda3/lib/python3.9/site-packages/tensorflow/python/data/ops/structured_function.py:256: UserWarning: Even though the `tf.config.experimental_run_functions_eagerly` option is set, this option does not apply to tf.data functions. To force eager execution of tf.data functions, please use `tf.data.experimental.enable_debug_mode()`.\n",
      "  warnings.warn(\n",
      "/Users/melinda/opt/anaconda3/lib/python3.9/site-packages/tensorflow/python/data/ops/structured_function.py:256: UserWarning: Even though the `tf.config.experimental_run_functions_eagerly` option is set, this option does not apply to tf.data functions. To force eager execution of tf.data functions, please use `tf.data.experimental.enable_debug_mode()`.\n",
      "  warnings.warn(\n"
     ]
    }
   ],
   "source": [
    "from tensorflow.python.keras.models import Sequential, Model\n",
    "from tensorflow.python.keras.layers import Dense, Activation\n",
    "M=len(x[0])\n",
    "num_class=3\n",
    "def _base_model_classification():\n",
    "    model = Sequential()\n",
    "    model.add(Dense(M, input_dim=M, activation='relu'))\n",
    "    model.add(Dense(M, input_dim=M, activation='relu'))\n",
    "\n",
    "    model.add(Dense(num_class, activation='softmax'))\n",
    "    model.compile(loss='categorical_crossentropy', optimizer='adam', metrics=['accuracy'])\n",
    "\n",
    "\n",
    "    return model  \n",
    "es = _base_model_classification()\n",
    "es=es.fit(x,pd.get_dummies(y))\n"
   ]
  },
  {
   "cell_type": "code",
   "execution_count": 9,
   "id": "9c181960",
   "metadata": {},
   "outputs": [
    {
     "name": "stdout",
     "output_type": "stream",
     "text": [
      "5/5 [==============================] - 0s 14ms/step - loss: 1.1695 - accuracy: 0.2600\n"
     ]
    },
    {
     "name": "stderr",
     "output_type": "stream",
     "text": [
      "2023-02-21 16:57:02.387240: W tensorflow/core/framework/op_kernel.cc:1807] OP_REQUIRES failed at cast_op.cc:121 : UNIMPLEMENTED: Cast string to float is not supported\n",
      "/Users/melinda/opt/anaconda3/lib/python3.9/site-packages/tensorflow/python/data/ops/structured_function.py:256: UserWarning: Even though the `tf.config.experimental_run_functions_eagerly` option is set, this option does not apply to tf.data functions. To force eager execution of tf.data functions, please use `tf.data.experimental.enable_debug_mode()`.\n",
      "  warnings.warn(\n"
     ]
    }
   ],
   "source": [
    "try:\n",
    "    fitted = es.fit(x,y)\n",
    "except:\n",
    "    fitted = es.fit(x,pd.get_dummies(y))"
   ]
  },
  {
   "cell_type": "code",
   "execution_count": 13,
   "id": "5146c61b",
   "metadata": {
    "scrolled": true
   },
   "outputs": [
    {
     "name": "stdout",
     "output_type": "stream",
     "text": [
      "5/5 [==============================] - 0s 13ms/step - loss: 1.1852 - accuracy: 0.2533\n",
      "1/5 [=====>........................] - ETA: 0s - loss: 1.3631 - accuracy: 0.0000e+00"
     ]
    },
    {
     "name": "stderr",
     "output_type": "stream",
     "text": [
      "/var/folders/pc/y0x_8p995ljbj37pd_6xdgtm0000gp/T/ipykernel_40872/3137617565.py:1: DeprecationWarning: KerasClassifier is deprecated, use Sci-Keras (https://github.com/adriangb/scikeras) instead. See https://www.adriangb.com/scikeras/stable/migration.html for help migrating.\n",
      "  my_model = KerasClassifier(build_fn=_base_model_classification)\n",
      "/Users/melinda/opt/anaconda3/lib/python3.9/site-packages/tensorflow/python/data/ops/structured_function.py:256: UserWarning: Even though the `tf.config.experimental_run_functions_eagerly` option is set, this option does not apply to tf.data functions. To force eager execution of tf.data functions, please use `tf.data.experimental.enable_debug_mode()`.\n",
      "  warnings.warn(\n"
     ]
    },
    {
     "name": "stdout",
     "output_type": "stream",
     "text": [
      "5/5 [==============================] - 0s 9ms/step - loss: 1.1750 - accuracy: 0.2533\n",
      "5/5 [==============================] - 0s 9ms/step - loss: 1.1305 - accuracy: 0.3000\n",
      "5/5 [==============================] - 0s 9ms/step - loss: 1.1395 - accuracy: 0.2933\n",
      "5/5 [==============================] - 0s 9ms/step - loss: 1.2630 - accuracy: 0.3133\n",
      "5/5 [==============================] - 0s 9ms/step - loss: 1.1227 - accuracy: 0.2867\n",
      "5/5 [==============================] - 0s 9ms/step - loss: 1.1424 - accuracy: 0.2867\n",
      "5/5 [==============================] - 0s 9ms/step - loss: 1.1408 - accuracy: 0.2867\n",
      "5/5 [==============================] - 0s 14ms/step - loss: 1.2687 - accuracy: 0.2733\n",
      "5/5 [==============================] - 0s 9ms/step - loss: 1.1102 - accuracy: 0.2933\n",
      "5/5 [==============================] - 0s 9ms/step - loss: 1.1442 - accuracy: 0.2733\n",
      "5/5 [==============================] - 0s 9ms/step - loss: 1.1372 - accuracy: 0.2800\n",
      "5/5 [==============================] - 0s 9ms/step - loss: 1.2777 - accuracy: 0.2800\n",
      "5/5 [==============================] - 0s 9ms/step - loss: 1.1150 - accuracy: 0.3067\n",
      "5/5 [==============================] - 0s 9ms/step - loss: 1.1420 - accuracy: 0.2867\n",
      "5/5 [==============================] - 0s 9ms/step - loss: 1.1295 - accuracy: 0.2800\n",
      "5/5 [==============================] - 0s 9ms/step - loss: 1.2692 - accuracy: 0.2933\n",
      "5/5 [==============================] - 0s 9ms/step - loss: 1.1133 - accuracy: 0.3000\n",
      "5/5 [==============================] - 0s 9ms/step - loss: 1.1353 - accuracy: 0.2933\n",
      "5/5 [==============================] - 0s 9ms/step - loss: 1.1236 - accuracy: 0.2733\n",
      "5/5 [==============================] - 0s 9ms/step - loss: 1.2800 - accuracy: 0.2800\n",
      "5/5 [==============================] - 0s 9ms/step - loss: 1.1185 - accuracy: 0.3133\n"
     ]
    }
   ],
   "source": [
    "my_model = KerasClassifier(build_fn=_base_model_classification)\n",
    "my_model.fit(x,y)\n",
    "perm = PermutationImportance(my_model).fit(x,y)"
   ]
  },
  {
   "cell_type": "code",
   "execution_count": 14,
   "id": "fe6a5965",
   "metadata": {},
   "outputs": [
    {
     "data": {
      "text/plain": [
       "array([-0.03466668, -0.02933334, -0.03466668, -0.04666668])"
      ]
     },
     "execution_count": 14,
     "metadata": {},
     "output_type": "execute_result"
    }
   ],
   "source": [
    "\n",
    "perm.feature_importances_            "
   ]
  },
  {
   "cell_type": "markdown",
   "id": "7bc5d197",
   "metadata": {},
   "source": [
    "### MLP+DeepLift"
   ]
  },
  {
   "cell_type": "code",
   "execution_count": 5,
   "id": "4209ead3",
   "metadata": {},
   "outputs": [],
   "source": [
    "                    impo_pack = (eval(importance_func.split('.')[0] + \"()\")).__module__.split('.')\n"
   ]
  },
  {
   "cell_type": "code",
   "execution_count": 7,
   "id": "5242e97d",
   "metadata": {},
   "outputs": [
    {
     "data": {
      "text/plain": [
       "array(True)"
      ]
     },
     "execution_count": 7,
     "metadata": {},
     "output_type": "execute_result"
    }
   ],
   "source": [
    "np.isin('deeplift',impo_pack)"
   ]
  },
  {
   "cell_type": "code",
   "execution_count": 10,
   "id": "4ea6cf74",
   "metadata": {},
   "outputs": [
    {
     "data": {
      "text/plain": [
       "True"
      ]
     },
     "execution_count": 10,
     "metadata": {},
     "output_type": "execute_result"
    }
   ],
   "source": [
    "hasattr(importance_func.__class__, '__call__') "
   ]
  },
  {
   "cell_type": "code",
   "execution_count": 11,
   "id": "1b681bbb",
   "metadata": {},
   "outputs": [
    {
     "name": "stdout",
     "output_type": "stream",
     "text": [
      "None\n",
      "Iter:  0\n",
      "4/4 [==============================] - 0s 14ms/step - loss: 1.1861 - accuracy: 0.2667\n",
      "Invalid feature importance function\n"
     ]
    },
    {
     "name": "stderr",
     "output_type": "stream",
     "text": [
      "/Users/melinda/opt/anaconda3/lib/python3.9/site-packages/tensorflow/python/data/ops/structured_function.py:256: UserWarning: Even though the `tf.config.experimental_run_functions_eagerly` option is set, this option does not apply to tf.data functions. To force eager execution of tf.data functions, please use `tf.data.experimental.enable_debug_mode()`.\n",
      "  warnings.warn(\n",
      "/Users/melinda/opt/anaconda3/lib/python3.9/site-packages/tensorflow/python/data/ops/structured_function.py:256: UserWarning: Even though the `tf.config.experimental_run_functions_eagerly` option is set, this option does not apply to tf.data functions. To force eager execution of tf.data functions, please use `tf.data.experimental.enable_debug_mode()`.\n",
      "  warnings.warn(\n",
      "2023-02-21 17:36:11.118101: W tensorflow/core/framework/op_kernel.cc:1807] OP_REQUIRES failed at cast_op.cc:121 : UNIMPLEMENTED: Cast string to float is not supported\n"
     ]
    },
    {
     "ename": "UnboundLocalError",
     "evalue": "local variable 's' referenced before assignment",
     "output_type": "error",
     "traceback": [
      "\u001b[0;31m---------------------------------------------------------------------------\u001b[0m",
      "\u001b[0;31mUnboundLocalError\u001b[0m                         Traceback (most recent call last)",
      "Input \u001b[0;32mIn [11]\u001b[0m, in \u001b[0;36m<cell line: 12>\u001b[0;34m()\u001b[0m\n\u001b[1;32m      5\u001b[0m \u001b[38;5;66;03m## Two-layer default MLP will be computed if estimator =None. Can input user-defined MLP model\u001b[39;00m\n\u001b[1;32m      7\u001b[0m model_class_mlp_dl\u001b[38;5;241m=\u001b[39mimlreliability\u001b[38;5;241m.\u001b[39mfeature_importance\u001b[38;5;241m.\u001b[39mfeature_impoClass_MLP(data_class,\n\u001b[1;32m      8\u001b[0m                                                                            \n\u001b[1;32m      9\u001b[0m                  importance_func\u001b[38;5;241m=\u001b[39mimportance_func,\n\u001b[1;32m     10\u001b[0m                  n_repeat\u001b[38;5;241m=\u001b[39m\u001b[38;5;241m3\u001b[39m,split_proportion\u001b[38;5;241m=\u001b[39m\u001b[38;5;241m0.7\u001b[39m,\n\u001b[1;32m     11\u001b[0m                 rand_index\u001b[38;5;241m=\u001b[39m\u001b[38;5;241m1\u001b[39m)\n\u001b[0;32m---> 12\u001b[0m \u001b[43mmodel_class_mlp_dl\u001b[49m\u001b[38;5;241;43m.\u001b[39;49m\u001b[43mfit\u001b[49m\u001b[43m(\u001b[49m\u001b[43m)\u001b[49m\n\u001b[1;32m     13\u001b[0m model_class_mlp_dl\u001b[38;5;241m.\u001b[39mconsistency(data_name\u001b[38;5;241m=\u001b[39m\u001b[38;5;124m'\u001b[39m\u001b[38;5;124mIris\u001b[39m\u001b[38;5;124m'\u001b[39m, estimator_name\u001b[38;5;241m=\u001b[39m\u001b[38;5;124m'\u001b[39m\u001b[38;5;124mMLP\u001b[39m\u001b[38;5;124m'\u001b[39m,impotance_func_name\u001b[38;5;241m=\u001b[39m\u001b[38;5;124m'\u001b[39m\u001b[38;5;124mDeepLift\u001b[39m\u001b[38;5;124m'\u001b[39m)\n\u001b[1;32m     14\u001b[0m \u001b[38;5;28mprint\u001b[39m(model_class_mlp_dl\u001b[38;5;241m.\u001b[39maccuracy)\n",
      "File \u001b[0;32m~/opt/anaconda3/lib/python3.9/site-packages/IML_reliability-0.1-py3.9.egg/imlreliability/feature_importance/_feature_impo.py:923\u001b[0m, in \u001b[0;36mfeature_impoClass_MLP.fit\u001b[0;34m(self, *args, **kwargs)\u001b[0m\n\u001b[1;32m    920\u001b[0m         \u001b[38;5;66;03m######################\u001b[39;00m\n\u001b[1;32m    921\u001b[0m         \u001b[38;5;28mself\u001b[39m\u001b[38;5;241m.\u001b[39msaved_model_file\u001b[38;5;241m=\u001b[39m \u001b[38;5;124m\"\u001b[39m\u001b[38;5;124mmlp_\u001b[39m\u001b[38;5;124m\"\u001b[39m\u001b[38;5;241m+\u001b[39m\u001b[38;5;28mstr\u001b[39m(i)\u001b[38;5;241m+\u001b[39m\u001b[38;5;124m\"\u001b[39m\u001b[38;5;124m.h5\u001b[39m\u001b[38;5;124m\"\u001b[39m\n\u001b[0;32m--> 923\u001b[0m         s\u001b[38;5;241m=\u001b[39m\u001b[38;5;28;43mself\u001b[39;49m\u001b[38;5;241;43m.\u001b[39;49m\u001b[43m_impo_score\u001b[49m\u001b[43m(\u001b[49m\u001b[43mx_train\u001b[49m\u001b[43m,\u001b[49m\u001b[43my_train\u001b[49m\u001b[43m,\u001b[49m\u001b[43mx_test\u001b[49m\u001b[43m,\u001b[49m\u001b[43my_test\u001b[49m\u001b[43m)\u001b[49m\n\u001b[1;32m    926\u001b[0m \u001b[38;5;66;03m##### different in MLP!\u001b[39;00m\n\u001b[1;32m    927\u001b[0m     \u001b[38;5;28;01mtry\u001b[39;00m:\n",
      "File \u001b[0;32m~/opt/anaconda3/lib/python3.9/site-packages/IML_reliability-0.1-py3.9.egg/imlreliability/feature_importance/_feature_impo.py:876\u001b[0m, in \u001b[0;36mfeature_impoClass_MLP._impo_score\u001b[0;34m(self, x_train, y_train, x_test, y_test)\u001b[0m\n\u001b[1;32m    874\u001b[0m         \u001b[38;5;28;01mexcept\u001b[39;00m:\n\u001b[1;32m    875\u001b[0m             \u001b[38;5;28mprint\u001b[39m(\u001b[38;5;124m'\u001b[39m\u001b[38;5;124mInvalid feature importance function\u001b[39m\u001b[38;5;124m'\u001b[39m)\n\u001b[0;32m--> 876\u001b[0m \u001b[38;5;28;01mreturn\u001b[39;00m clean_score(\u001b[43ms\u001b[49m)\n",
      "\u001b[0;31mUnboundLocalError\u001b[0m: local variable 's' referenced before assignment"
     ]
    }
   ],
   "source": [
    "from deeplift.layers import NonlinearMxtsMode\n",
    "import deeplift\n",
    "importance_func = NonlinearMxtsMode.RevealCancel\n",
    "\n",
    "## Two-layer default MLP will be computed if estimator =None. Can input user-defined MLP model\n",
    "\n",
    "model_class_mlp_dl=imlreliability.feature_importance.feature_impoClass_MLP(data_class,\n",
    "                                                                           \n",
    "                 importance_func=importance_func,\n",
    "                 n_repeat=3,split_proportion=0.7,\n",
    "                rand_index=1)\n",
    "model_class_mlp_dl.fit()\n",
    "model_class_mlp_dl.consistency(data_name='Iris', estimator_name='MLP',impotance_func_name='DeepLift')\n",
    "print(model_class_mlp_dl.accuracy)\n",
    "print(model_class_mlp_dl.consistency)\n",
    "print(model_class_mlp_dl.prediction_consistency)\n"
   ]
  },
  {
   "cell_type": "code",
   "execution_count": 11,
   "id": "62ece239",
   "metadata": {},
   "outputs": [
    {
     "data": {
      "text/plain": [
       "['__builtins__',\n",
       " '__cached__',\n",
       " '__doc__',\n",
       " '__file__',\n",
       " '__loader__',\n",
       " '__name__',\n",
       " '__package__',\n",
       " '__path__',\n",
       " '__spec__',\n",
       " '__version__']"
      ]
     },
     "execution_count": 11,
     "metadata": {},
     "output_type": "execute_result"
    }
   ],
   "source": [
    "dir(deeplift)"
   ]
  },
  {
   "cell_type": "code",
   "execution_count": null,
   "id": "98e33e86",
   "metadata": {},
   "outputs": [],
   "source": [
    "from sklearn.linear_model import RidgeCV\n"
   ]
  }
 ],
 "metadata": {
  "kernelspec": {
   "display_name": "Python 3 (ipykernel)",
   "language": "python",
   "name": "python3"
  },
  "language_info": {
   "codemirror_mode": {
    "name": "ipython",
    "version": 3
   },
   "file_extension": ".py",
   "mimetype": "text/x-python",
   "name": "python",
   "nbconvert_exporter": "python",
   "pygments_lexer": "ipython3",
   "version": "3.9.12"
  }
 },
 "nbformat": 4,
 "nbformat_minor": 5
}
