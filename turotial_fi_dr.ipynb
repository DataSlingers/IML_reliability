{
 "cells": [
  {
   "cell_type": "markdown",
   "id": "1f3bbe3b",
   "metadata": {},
   "source": [
    "### Import packages"
   ]
  },
  {
   "cell_type": "code",
   "execution_count": 1,
   "id": "66faeb56",
   "metadata": {
    "scrolled": true
   },
   "outputs": [
    {
     "name": "stderr",
     "output_type": "stream",
     "text": [
      "/Users/melinda/opt/anaconda3/lib/python3.9/site-packages/scipy/__init__.py:146: UserWarning: A NumPy version >=1.16.5 and <1.23.0 is required for this version of SciPy (detected version 1.24.2\n",
      "  warnings.warn(f\"A NumPy version >={np_minversion} and <{np_maxversion}\"\n"
     ]
    }
   ],
   "source": [
    "import imlreliability\n",
    "import pandas as pd\n",
    "import numpy as np"
   ]
  },
  {
   "cell_type": "markdown",
   "id": "dfc9c219",
   "metadata": {},
   "source": [
    "### Dimension Reduction "
   ]
  },
  {
   "cell_type": "markdown",
   "id": "607e7ef7",
   "metadata": {},
   "source": [
    "#### Load data"
   ]
  },
  {
   "cell_type": "code",
   "execution_count": 2,
   "id": "42086510",
   "metadata": {},
   "outputs": [],
   "source": [
    "from sklearn.model_selection import train_test_split\n",
    "data = pd.read_csv('https://archive.ics.uci.edu/ml/machine-learning-databases/breast-cancer-wisconsin/wdbc.data', header=None)\n",
    "data=data.dropna()\n",
    "y=(data[1])\n",
    "x = data.drop(columns=[0,1]).to_numpy()\n",
    "K=len(set(y))"
   ]
  },
  {
   "cell_type": "markdown",
   "id": "086680b0",
   "metadata": {},
   "source": [
    "### Noise Addition\n"
   ]
  },
  {
   "cell_type": "markdown",
   "id": "24df053d",
   "metadata": {},
   "source": [
    "####  + Clustering"
   ]
  },
  {
   "cell_type": "code",
   "execution_count": 7,
   "id": "0e76b698",
   "metadata": {},
   "outputs": [
    {
     "name": "stdout",
     "output_type": "stream",
     "text": [
      "Iter:  0\n",
      "Iter:  1\n",
      "Iter:  2\n",
      "noise\n",
      "noise\n",
      "noise\n",
      "       data method perturbation clustering   noise  sigma  rank  \\\n",
      "0  Spambase    PCA        noise         KM  normal      1     2   \n",
      "1  Spambase    PCA        noise         KM  normal      1     2   \n",
      "2  Spambase    PCA        noise         KM  normal      1     2   \n",
      "3  Spambase    PCA        noise         KM  normal      1     2   \n",
      "\n",
      "                criteria  Accuracy  Consistency  \n",
      "0                    ARI  0.328667     0.488333  \n",
      "1  Fowlkes Mallows Score  0.598667     0.620000  \n",
      "2     Mutual Information  0.402667     0.506667  \n",
      "3        V Measure Score  0.404333     0.509667  \n"
     ]
    }
   ],
   "source": [
    "from sklearn.decomposition import PCA\n",
    "from sklearn.cluster import KMeans\n",
    "esti=PCA()\n",
    "\n",
    "model = imlreliability.dimension_reduction.dimension_reduction(x,estimator=esti,K=len(set(y)),\n",
    "                 label=y,\n",
    "                 perturbation = 'noise',\n",
    "                rank=2,\n",
    "                 sigma=1,\n",
    "                 noise_type='normal',\n",
    "                 n_repeat=3,\n",
    "                    rand_index=1,\n",
    "                    verbose=True)\n",
    "\n",
    "model.fit()\n",
    "model.consistency_clustering('WDBC','PCA',KMeans(n_clusters=4),'KM')\n",
    "print(model.results)\n",
    "\n"
   ]
  },
  {
   "cell_type": "markdown",
   "id": "c113de1f",
   "metadata": {},
   "source": [
    "#### +KNN"
   ]
  },
  {
   "cell_type": "code",
   "execution_count": 8,
   "id": "8a408239",
   "metadata": {},
   "outputs": [
    {
     "name": "stdout",
     "output_type": "stream",
     "text": [
      "       data method   noise  sigma criteria  rank  Consistency\n",
      "0  Spambase    PCA  normal      1  Jaccard     2     0.567629\n"
     ]
    }
   ],
   "source": [
    "## Nearest neighbor \n",
    "\n",
    "model.consistency_knn('WDBC','PCA')\n",
    "# print(model.consistency_knn_mean)\n",
    "print(model.aucc)"
   ]
  },
  {
   "cell_type": "markdown",
   "id": "babb9430",
   "metadata": {},
   "source": [
    "#### without labels "
   ]
  },
  {
   "cell_type": "code",
   "execution_count": 6,
   "id": "5de2784d",
   "metadata": {},
   "outputs": [
    {
     "name": "stdout",
     "output_type": "stream",
     "text": [
      "       data method perturbation clustering   noise  sigma  rank  \\\n",
      "0  Spambase    PCA        noise         KM  normal      1     2   \n",
      "1  Spambase    PCA        noise         KM  normal      1     2   \n",
      "2  Spambase    PCA        noise         KM  normal      1     2   \n",
      "3  Spambase    PCA        noise         KM  normal      1     2   \n",
      "\n",
      "                criteria  Consistency  Accuracy  \n",
      "0                    ARI     0.488333       NaN  \n",
      "1  Fowlkes Mallows Score     0.620000       NaN  \n",
      "2     Mutual Information     0.506667       NaN  \n",
      "3        V Measure Score     0.509667       NaN  \n"
     ]
    }
   ],
   "source": [
    "model2 = imlreliability.dimension_reduction.dimension_reduction(x,estimator=esti,K=len(set(y)),\n",
    "                 label=None,\n",
    "                 perturbation = 'noise',\n",
    "                rank=2,\n",
    "                 sigma=1,\n",
    "                 noise_type='normal',\n",
    "                 n_repeat=3,\n",
    "                    rand_index=1,\n",
    "                    verbose=True)\n",
    "\n",
    "model2.fit()\n",
    "model2.consistency_clustering('WDBC','PCA',KMeans(n_clusters=4),'KM')\n",
    "print(model2.results)"
   ]
  },
  {
   "cell_type": "markdown",
   "id": "3b2b94a6",
   "metadata": {},
   "source": [
    "### Data spliting"
   ]
  },
  {
   "cell_type": "code",
   "execution_count": 3,
   "id": "7588e7b1",
   "metadata": {},
   "outputs": [
    {
     "name": "stdout",
     "output_type": "stream",
     "text": [
      "Iter:  0\n",
      "Iter:  1\n",
      "Iter:  2\n",
      "       data method perturbation clustering   noise  sigma  rank  \\\n",
      "0  Spambase    PCA        split         KM  normal      1     2   \n",
      "1  Spambase    PCA        split         KM  normal      1     2   \n",
      "2  Spambase    PCA        split         KM  normal      1     2   \n",
      "3  Spambase    PCA        split         KM  normal      1     2   \n",
      "\n",
      "                criteria  Accuracy  Consistency  \n",
      "0                    ARI  0.364667     0.749667  \n",
      "1  Fowlkes Mallows Score  0.626000     0.816000  \n",
      "2     Mutual Information  0.442000     0.761000  \n",
      "3        V Measure Score  0.444000     0.764333  \n"
     ]
    }
   ],
   "source": [
    "from sklearn.decomposition import PCA\n",
    "from sklearn.cluster import KMeans\n",
    "esti=PCA()\n",
    "\n",
    "model = imlreliability.dimension_reduction.dimension_reduction(x,estimator=esti,K=len(set(y)),\n",
    "                 label=y,\n",
    "                 perturbation = 'split',\n",
    "                rank=2,\n",
    "                 n_repeat=3,\n",
    "                    rand_index=1,\n",
    "                    verbose=True)\n",
    "\n",
    "model.fit()\n",
    "model.consistency_clustering('WDBC','PCA',KMeans(n_clusters=4),'KM')\n",
    "print(model.results)\n",
    "\n"
   ]
  },
  {
   "cell_type": "code",
   "execution_count": null,
   "id": "71cff5b7",
   "metadata": {},
   "outputs": [],
   "source": []
  }
 ],
 "metadata": {
  "kernelspec": {
   "display_name": "Python 3 (ipykernel)",
   "language": "python",
   "name": "python3"
  },
  "language_info": {
   "codemirror_mode": {
    "name": "ipython",
    "version": 3
   },
   "file_extension": ".py",
   "mimetype": "text/x-python",
   "name": "python",
   "nbconvert_exporter": "python",
   "pygments_lexer": "ipython3",
   "version": "3.9.12"
  }
 },
 "nbformat": 4,
 "nbformat_minor": 5
}
