{
 "cells": [
  {
   "cell_type": "markdown",
   "id": "1f3bbe3b",
   "metadata": {},
   "source": [
    "### Import packages"
   ]
  },
  {
   "cell_type": "code",
   "execution_count": 1,
   "id": "66faeb56",
   "metadata": {
    "scrolled": true
   },
   "outputs": [
    {
     "name": "stderr",
     "output_type": "stream",
     "text": [
      "/Users/alice/anaconda3/lib/python3.6/site-packages/tensorflow/python/framework/dtypes.py:526: FutureWarning: Passing (type, 1) or '1type' as a synonym of type is deprecated; in a future version of numpy, it will be understood as (type, (1,)) / '(1,)type'.\n",
      "  _np_qint8 = np.dtype([(\"qint8\", np.int8, 1)])\n",
      "/Users/alice/anaconda3/lib/python3.6/site-packages/tensorflow/python/framework/dtypes.py:527: FutureWarning: Passing (type, 1) or '1type' as a synonym of type is deprecated; in a future version of numpy, it will be understood as (type, (1,)) / '(1,)type'.\n",
      "  _np_quint8 = np.dtype([(\"quint8\", np.uint8, 1)])\n",
      "/Users/alice/anaconda3/lib/python3.6/site-packages/tensorflow/python/framework/dtypes.py:528: FutureWarning: Passing (type, 1) or '1type' as a synonym of type is deprecated; in a future version of numpy, it will be understood as (type, (1,)) / '(1,)type'.\n",
      "  _np_qint16 = np.dtype([(\"qint16\", np.int16, 1)])\n",
      "/Users/alice/anaconda3/lib/python3.6/site-packages/tensorflow/python/framework/dtypes.py:529: FutureWarning: Passing (type, 1) or '1type' as a synonym of type is deprecated; in a future version of numpy, it will be understood as (type, (1,)) / '(1,)type'.\n",
      "  _np_quint16 = np.dtype([(\"quint16\", np.uint16, 1)])\n",
      "/Users/alice/anaconda3/lib/python3.6/site-packages/tensorflow/python/framework/dtypes.py:530: FutureWarning: Passing (type, 1) or '1type' as a synonym of type is deprecated; in a future version of numpy, it will be understood as (type, (1,)) / '(1,)type'.\n",
      "  _np_qint32 = np.dtype([(\"qint32\", np.int32, 1)])\n",
      "/Users/alice/anaconda3/lib/python3.6/site-packages/tensorflow/python/framework/dtypes.py:535: FutureWarning: Passing (type, 1) or '1type' as a synonym of type is deprecated; in a future version of numpy, it will be understood as (type, (1,)) / '(1,)type'.\n",
      "  np_resource = np.dtype([(\"resource\", np.ubyte, 1)])\n"
     ]
    }
   ],
   "source": [
    "import imlreliability\n",
    "import pandas as pd\n",
    "import numpy as np#### Load Packages dir(imlreliability)"
   ]
  },
  {
   "cell_type": "code",
   "execution_count": 2,
   "id": "likely-parent",
   "metadata": {},
   "outputs": [
    {
     "data": {
      "text/plain": [
       "['__all__',\n",
       " '__builtins__',\n",
       " '__cached__',\n",
       " '__doc__',\n",
       " '__file__',\n",
       " '__loader__',\n",
       " '__name__',\n",
       " '__package__',\n",
       " '__path__',\n",
       " '__spec__',\n",
       " '__version__',\n",
       " '_version',\n",
       " 'clustering',\n",
       " 'dimension_reduction',\n",
       " 'feature_importance']"
      ]
     },
     "execution_count": 2,
     "metadata": {},
     "output_type": "execute_result"
    }
   ],
   "source": [
    "dir(imlreliability)"
   ]
  },
  {
   "cell_type": "markdown",
   "id": "dfc9c219",
   "metadata": {},
   "source": [
    "### Clustering "
   ]
  },
  {
   "cell_type": "code",
   "execution_count": 3,
   "id": "broadband-strength",
   "metadata": {},
   "outputs": [
    {
     "data": {
      "text/plain": [
       "['__all__',\n",
       " '__builtins__',\n",
       " '__cached__',\n",
       " '__doc__',\n",
       " '__file__',\n",
       " '__loader__',\n",
       " '__name__',\n",
       " '__package__',\n",
       " '__path__',\n",
       " '__spec__',\n",
       " '_clustering',\n",
       " 'clustering',\n",
       " 'util_clustering']"
      ]
     },
     "execution_count": 3,
     "metadata": {},
     "output_type": "execute_result"
    }
   ],
   "source": [
    "dir(imlreliability.clustering)"
   ]
  },
  {
   "cell_type": "markdown",
   "id": "backed-focus",
   "metadata": {},
   "source": [
    "Reliability test of clustering techniques can be performed with the module imlreliability.clustering."
   ]
  },
  {
   "cell_type": "markdown",
   "id": "607e7ef7",
   "metadata": {},
   "source": [
    "#### Load data\n",
    "We use the WDBC Breast Cancer Wisconsin data as an example for the following sections. The data has 569 observations and 30 feature, and 2 oracle clusters. We scale and normalize the data as pre-processing steps. "
   ]
  },
  {
   "cell_type": "code",
   "execution_count": 4,
   "id": "42086510",
   "metadata": {},
   "outputs": [],
   "source": [
    "from sklearn.model_selection import train_test_split\n",
    "data = pd.read_csv('https://archive.ics.uci.edu/ml/machine-learning-databases/breast-cancer-wisconsin/wdbc.data', header=None)\n",
    "data=data.dropna()\n",
    "y=(data[1])\n",
    "x = data.drop(columns=[0,1]).to_numpy()\n",
    "K=len(set(y))"
   ]
  },
  {
   "cell_type": "markdown",
   "id": "collect-criticism",
   "metadata": {},
   "source": [
    "The clustering estimator is assumed to implement the scikit-learn estimator interface.  We propose two data perturbation approaches: \n",
    "\n",
    "    1. noise addition and \n",
    "    2. data spliting. \n",
    "\n",
    "We will show examples under these two scenarios in the following sections."
   ]
  },
  {
   "cell_type": "markdown",
   "id": "086680b0",
   "metadata": {},
   "source": [
    "### 1. Noise Addition\n",
    "\n",
    "We wish to measure the interpretation reliability of K-Means, by perturbing the data with noise addition ``perturbation = 'noise'``. Here we add normal noise with mean 0 and standard deviation 1 by setting ``noise_type='normal'`` and ``sigma=1``. For illustration purpose, we run 3 repeats.\n",
    "\n",
    "The ``.get_consistency`` function results in a summary pandas dataframe: ``results``, which includes model details, clustering accuracy, if the true label is provided, and clusteirng consistency measured by different criterias. \n",
    "\n",
    "The ``results`` pandas dataframe can be downloaded and upload to the dashboard. "
   ]
  },
  {
   "cell_type": "code",
   "execution_count": 6,
   "id": "0e76b698",
   "metadata": {},
   "outputs": [
    {
     "name": "stdout",
     "output_type": "stream",
     "text": [
      "Iter:  0\n",
      "<built-in method normal of numpy.random.mtrand.RandomState object at 0x7fa59d5f7258>\n",
      "Iter:  1\n",
      "<built-in method normal of numpy.random.mtrand.RandomState object at 0x7fa59d5f7258>\n",
      "Iter:  2\n",
      "<built-in method normal of numpy.random.mtrand.RandomState object at 0x7fa59d5f7258>\n",
      "noise\n",
      "noise\n",
      "noise\n",
      "   data   method perturbation   noise  sigma               criteria  Accuracy  \\\n",
      "0  WDBC  K-means        noise  normal      1                    ARI  0.642333   \n",
      "1  WDBC  K-means        noise  normal      1  Fowlkes Mallows Score  0.829667   \n",
      "2  WDBC  K-means        noise  normal      1     Mutual Information  0.529333   \n",
      "3  WDBC  K-means        noise  normal      1        V Measure Score  0.529667   \n",
      "\n",
      "   Consistency  \n",
      "0     0.762667  \n",
      "1     0.885000  \n",
      "2     0.655333  \n",
      "3     0.655333  \n"
     ]
    }
   ],
   "source": [
    "from sklearn.cluster import KMeans\n",
    "esti_km = KMeans(n_clusters=K,init='k-means++')\n",
    "# from sklearn.cluster import AgglomerativeClustering\n",
    "\n",
    "\n",
    "model_km = imlreliability.clustering.clustering(data=x,estimator=esti_km,K=len(set(y)),\n",
    "                 label=y,\n",
    "                 perturbation = 'noise',\n",
    "                 sigma=1,\n",
    "                 noise_type='normal',\n",
    "                 n_repeat=3,\n",
    "                 norm=True,\n",
    "                 rand_index=1,\n",
    "                 verbose=True)\n",
    "\n",
    "model_km.fit()\n",
    "model_km.get_consistency('WDBC',method_name='K-means')\n",
    "print(model_km.results)\n",
    "####################### \n",
    "# model_km.results.to_csv('clus_new_km_noise.csv')"
   ]
  },
  {
   "cell_type": "markdown",
   "id": "babb9430",
   "metadata": {},
   "source": [
    "#### without labels "
   ]
  },
  {
   "cell_type": "code",
   "execution_count": 7,
   "id": "5de2784d",
   "metadata": {},
   "outputs": [
    {
     "name": "stdout",
     "output_type": "stream",
     "text": [
      "Iter:  0\n",
      "<built-in method normal of numpy.random.mtrand.RandomState object at 0x7fa59d5f7258>\n",
      "Iter:  1\n",
      "<built-in method normal of numpy.random.mtrand.RandomState object at 0x7fa59d5f7258>\n",
      "noise\n",
      "   data   method perturbation   noise  sigma               criteria  \\\n",
      "0  WDBC  K-means        noise  normal      1                    ARI   \n",
      "1  WDBC  K-means        noise  normal      1  Fowlkes Mallows Score   \n",
      "2  WDBC  K-means        noise  normal      1     Mutual Information   \n",
      "3  WDBC  K-means        noise  normal      1        V Measure Score   \n",
      "\n",
      "   Consistency  Accuracy  \n",
      "0        0.720       NaN  \n",
      "1        0.864       NaN  \n",
      "2        0.609       NaN  \n",
      "3        0.609       NaN  \n"
     ]
    }
   ],
   "source": [
    "model_km2 = imlreliability.clustering.clustering(data=x,estimator=esti_km,K=len(set(y)),\n",
    "                 label=None,\n",
    "                 perturbation = 'noise',\n",
    "                 sigma=1,\n",
    "                 noise_type='normal',\n",
    "                 n_repeat=2,\n",
    "                 norm=True,\n",
    "                 stratify=True,\n",
    "                 rand_index=1,\n",
    "                 verbose=True)\n",
    "\n",
    "model_km2.fit()\n",
    "model_km2.get_consistency('WDBC',method_name='K-means')\n",
    "print(model_km2.results)\n",
    "####################### "
   ]
  },
  {
   "cell_type": "markdown",
   "id": "3b2b94a6",
   "metadata": {},
   "source": [
    "### 2. Data spliting\n",
    "\n",
    "We still measure the interpretation reliability of K-Means, but change the perturtion approach to stratified data spliting, by setting ``perturbation = 'split'`` and ``stratify=True``. \n",
    "\n",
    "The ``.get_consistency`` function results in a summary pandas dataframe: ``results``, which includes model details, clustering accuracy, if the true label is provided, and clusteirng consistency measured by different criterias. \n",
    "\n",
    "The ``results`` pandas dataframe can be downloaded and upload to the dashboard. "
   ]
  },
  {
   "cell_type": "code",
   "execution_count": 8,
   "id": "7588e7b1",
   "metadata": {},
   "outputs": [
    {
     "name": "stdout",
     "output_type": "stream",
     "text": [
      "Iter:  0\n",
      "Iter:  1\n",
      "Iter:  2\n",
      "split\n",
      "split\n",
      "split\n",
      "   data   method perturbation noise sigma               criteria  Accuracy  \\\n",
      "0  WDBC  K-means        split    NA    NA                    ARI  0.714667   \n",
      "1  WDBC  K-means        split    NA    NA  Fowlkes Mallows Score  0.865333   \n",
      "2  WDBC  K-means        split    NA    NA     Mutual Information  0.597333   \n",
      "3  WDBC  K-means        split    NA    NA        V Measure Score  0.598333   \n",
      "\n",
      "   Consistency  \n",
      "0     0.971000  \n",
      "1     0.986333  \n",
      "2     0.944333  \n",
      "3     0.944333  \n"
     ]
    }
   ],
   "source": [
    "from sklearn.cluster import KMeans\n",
    "esti_km = KMeans(n_clusters=K,init='k-means++')\n",
    "\n",
    "model_km3 = imlreliability.clustering.clustering(data=x,estimator=esti_km,K=len(set(y)),\n",
    "                 label=y,\n",
    "                 perturbation = 'split',\n",
    "                 sigma='NA',\n",
    "                 noise_type='NA',\n",
    "                 n_repeat=3,\n",
    "                 norm=True,\n",
    "                 stratify=True,\n",
    "                 rand_index=1,\n",
    "                 verbose=True)\n",
    "\n",
    "model_km3.fit()\n",
    "model_km3.get_consistency('WDBC',method_name='K-means')\n",
    "print(model_km3.results)\n",
    "####################### \n",
    "# model_km3.results.to_csv('clus_new_km_split.csv')"
   ]
  }
 ],
 "metadata": {
  "kernelspec": {
   "display_name": "Python 3 (ipykernel)",
   "language": "python",
   "name": "python3"
  },
  "language_info": {
   "codemirror_mode": {
    "name": "ipython",
    "version": 3
   },
   "file_extension": ".py",
   "mimetype": "text/x-python",
   "name": "python",
   "nbconvert_exporter": "python",
   "pygments_lexer": "ipython3",
   "version": "3.9.12"
  }
 },
 "nbformat": 4,
 "nbformat_minor": 5
}
